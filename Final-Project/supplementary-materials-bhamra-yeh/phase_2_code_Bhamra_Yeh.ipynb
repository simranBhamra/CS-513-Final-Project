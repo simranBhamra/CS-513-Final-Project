{
 "cells": [
  {
   "cell_type": "markdown",
   "id": "febecdba",
   "metadata": {},
   "source": [
    "# Phase II \n",
    "Simran Bhamra sbhamra2@illinois.edu, Albert Yeh ayeh2@illinois.edu"
   ]
  },
  {
   "cell_type": "markdown",
   "id": "1c970fad",
   "metadata": {},
   "source": [
    "# Introduction \n",
    "&nbsp;&nbsp;&nbsp;&nbsp;&nbsp;&nbsp; The goal of this project is to apply the data cleaning concepts and practices we learned during class to crime data from the city of Denver, Colorado. The Denver City crime data is part of an open data catalog provided by the city government and collected by the Denver Police Department. The data can be found at this location: https://www.denvergov.org/opendata/dataset/city-and-county-of-denver-crime. \n",
    " \n",
    "&nbsp;&nbsp;&nbsp;&nbsp;&nbsp;&nbsp; For this project we will be using two of the tables provided, the first is the crime table which contains all criminal offenses in the city and county of Denver from January 2017- June 2022. The second is the offense code table, this can be used to cross-reference the offense code given in table 1 to find the actual crime name according to the National Incident-Based Reporting System.\n"
   ]
  },
  {
   "cell_type": "code",
   "execution_count": 1,
   "id": "20cb4b5f",
   "metadata": {},
   "outputs": [],
   "source": [
    "import numpy as np\n",
    "import pandas as pd\n",
    "import datetime as dt"
   ]
  },
  {
   "cell_type": "markdown",
   "id": "c28aecc8",
   "metadata": {},
   "source": [
    "# Methods \n",
    "&nbsp;&nbsp;&nbsp;&nbsp;&nbsp;&nbsp; The first step in our data cleaning workflow is to import both our data sets and begin to change the data to the correct types. We do this with the crimes table first using some of the data we collected during our data exploration in phase I."
   ]
  },
  {
   "cell_type": "code",
   "execution_count": 2,
   "id": "3f7a3c29",
   "metadata": {},
   "outputs": [],
   "source": [
    "#import datasets\n",
    "crimes = pd.read_csv(\"crime.csv\", encoding='latin-1', engine='python')\n",
    "offense_codes = pd.read_csv(\"offense_codes.csv\", encoding='latin-1', engine='python')"
   ]
  },
  {
   "cell_type": "code",
   "execution_count": 3,
   "id": "4d531735",
   "metadata": {},
   "outputs": [
    {
     "data": {
      "text/html": [
       "<div>\n",
       "<style scoped>\n",
       "    .dataframe tbody tr th:only-of-type {\n",
       "        vertical-align: middle;\n",
       "    }\n",
       "\n",
       "    .dataframe tbody tr th {\n",
       "        vertical-align: top;\n",
       "    }\n",
       "\n",
       "    .dataframe thead th {\n",
       "        text-align: right;\n",
       "    }\n",
       "</style>\n",
       "<table border=\"1\" class=\"dataframe\">\n",
       "  <thead>\n",
       "    <tr style=\"text-align: right;\">\n",
       "      <th></th>\n",
       "      <th>incident_id</th>\n",
       "      <th>offense_id</th>\n",
       "      <th>OFFENSE_CODE</th>\n",
       "      <th>OFFENSE_CODE_EXTENSION</th>\n",
       "      <th>OFFENSE_TYPE_ID</th>\n",
       "      <th>OFFENSE_CATEGORY_ID</th>\n",
       "      <th>FIRST_OCCURRENCE_DATE</th>\n",
       "      <th>LAST_OCCURRENCE_DATE</th>\n",
       "      <th>REPORTED_DATE</th>\n",
       "      <th>INCIDENT_ADDRESS</th>\n",
       "      <th>GEO_X</th>\n",
       "      <th>GEO_Y</th>\n",
       "      <th>GEO_LON</th>\n",
       "      <th>GEO_LAT</th>\n",
       "      <th>DISTRICT_ID</th>\n",
       "      <th>PRECINCT_ID</th>\n",
       "      <th>NEIGHBORHOOD_ID</th>\n",
       "      <th>IS_CRIME</th>\n",
       "      <th>IS_TRAFFIC</th>\n",
       "      <th>VICTIM_COUNT</th>\n",
       "    </tr>\n",
       "  </thead>\n",
       "  <tbody>\n",
       "    <tr>\n",
       "      <th>0</th>\n",
       "      <td>20226000193</td>\n",
       "      <td>20226000193299900</td>\n",
       "      <td>2999</td>\n",
       "      <td>0</td>\n",
       "      <td>criminal-mischief-other</td>\n",
       "      <td>public-disorder</td>\n",
       "      <td>1/4/2022 11:30:00 AM</td>\n",
       "      <td>1/4/2022 12:00:00 PM</td>\n",
       "      <td>1/4/2022 8:36:00 PM</td>\n",
       "      <td>128 S CANOSA CT</td>\n",
       "      <td>3135366.0</td>\n",
       "      <td>1685410.0</td>\n",
       "      <td>-105.018825</td>\n",
       "      <td>39.714268</td>\n",
       "      <td>4.0</td>\n",
       "      <td>411.0</td>\n",
       "      <td>valverde</td>\n",
       "      <td>1</td>\n",
       "      <td>0</td>\n",
       "      <td>1</td>\n",
       "    </tr>\n",
       "    <tr>\n",
       "      <th>1</th>\n",
       "      <td>20223319</td>\n",
       "      <td>20223319299900</td>\n",
       "      <td>2999</td>\n",
       "      <td>0</td>\n",
       "      <td>criminal-mischief-other</td>\n",
       "      <td>public-disorder</td>\n",
       "      <td>1/3/2022 6:45:00 AM</td>\n",
       "      <td>NaN</td>\n",
       "      <td>1/3/2022 11:01:00 AM</td>\n",
       "      <td>650 15TH ST</td>\n",
       "      <td>3142454.0</td>\n",
       "      <td>1696151.0</td>\n",
       "      <td>-104.993418</td>\n",
       "      <td>39.743649</td>\n",
       "      <td>6.0</td>\n",
       "      <td>611.0</td>\n",
       "      <td>cbd</td>\n",
       "      <td>1</td>\n",
       "      <td>0</td>\n",
       "      <td>1</td>\n",
       "    </tr>\n",
       "    <tr>\n",
       "      <th>2</th>\n",
       "      <td>20223093</td>\n",
       "      <td>20223093299900</td>\n",
       "      <td>2999</td>\n",
       "      <td>0</td>\n",
       "      <td>criminal-mischief-other</td>\n",
       "      <td>public-disorder</td>\n",
       "      <td>1/3/2022 1:00:00 AM</td>\n",
       "      <td>NaN</td>\n",
       "      <td>1/3/2022 6:11:00 AM</td>\n",
       "      <td>919 E COLFAX AVE</td>\n",
       "      <td>3147484.0</td>\n",
       "      <td>1694898.0</td>\n",
       "      <td>-104.975557</td>\n",
       "      <td>39.740130</td>\n",
       "      <td>6.0</td>\n",
       "      <td>621.0</td>\n",
       "      <td>north-capitol-hill</td>\n",
       "      <td>1</td>\n",
       "      <td>0</td>\n",
       "      <td>1</td>\n",
       "    </tr>\n",
       "    <tr>\n",
       "      <th>3</th>\n",
       "      <td>20224000</td>\n",
       "      <td>20224000299900</td>\n",
       "      <td>2999</td>\n",
       "      <td>0</td>\n",
       "      <td>criminal-mischief-other</td>\n",
       "      <td>public-disorder</td>\n",
       "      <td>1/3/2022 7:47:00 PM</td>\n",
       "      <td>NaN</td>\n",
       "      <td>1/3/2022 9:12:00 PM</td>\n",
       "      <td>2345 W ALAMEDA AVE</td>\n",
       "      <td>3136478.0</td>\n",
       "      <td>1684414.0</td>\n",
       "      <td>-105.014892</td>\n",
       "      <td>39.711518</td>\n",
       "      <td>4.0</td>\n",
       "      <td>411.0</td>\n",
       "      <td>valverde</td>\n",
       "      <td>1</td>\n",
       "      <td>0</td>\n",
       "      <td>1</td>\n",
       "    </tr>\n",
       "    <tr>\n",
       "      <th>4</th>\n",
       "      <td>20223956</td>\n",
       "      <td>20223956299900</td>\n",
       "      <td>2999</td>\n",
       "      <td>0</td>\n",
       "      <td>criminal-mischief-other</td>\n",
       "      <td>public-disorder</td>\n",
       "      <td>1/3/2022 5:06:00 PM</td>\n",
       "      <td>NaN</td>\n",
       "      <td>1/3/2022 8:31:00 PM</td>\n",
       "      <td>7800 E SMITH RD</td>\n",
       "      <td>3169237.0</td>\n",
       "      <td>1705800.0</td>\n",
       "      <td>-104.897950</td>\n",
       "      <td>39.769688</td>\n",
       "      <td>5.0</td>\n",
       "      <td>512.0</td>\n",
       "      <td>central-park</td>\n",
       "      <td>1</td>\n",
       "      <td>0</td>\n",
       "      <td>1</td>\n",
       "    </tr>\n",
       "  </tbody>\n",
       "</table>\n",
       "</div>"
      ],
      "text/plain": [
       "   incident_id         offense_id  OFFENSE_CODE  OFFENSE_CODE_EXTENSION  \\\n",
       "0  20226000193  20226000193299900          2999                       0   \n",
       "1     20223319     20223319299900          2999                       0   \n",
       "2     20223093     20223093299900          2999                       0   \n",
       "3     20224000     20224000299900          2999                       0   \n",
       "4     20223956     20223956299900          2999                       0   \n",
       "\n",
       "           OFFENSE_TYPE_ID OFFENSE_CATEGORY_ID FIRST_OCCURRENCE_DATE  \\\n",
       "0  criminal-mischief-other     public-disorder  1/4/2022 11:30:00 AM   \n",
       "1  criminal-mischief-other     public-disorder   1/3/2022 6:45:00 AM   \n",
       "2  criminal-mischief-other     public-disorder   1/3/2022 1:00:00 AM   \n",
       "3  criminal-mischief-other     public-disorder   1/3/2022 7:47:00 PM   \n",
       "4  criminal-mischief-other     public-disorder   1/3/2022 5:06:00 PM   \n",
       "\n",
       "   LAST_OCCURRENCE_DATE         REPORTED_DATE    INCIDENT_ADDRESS      GEO_X  \\\n",
       "0  1/4/2022 12:00:00 PM   1/4/2022 8:36:00 PM     128 S CANOSA CT  3135366.0   \n",
       "1                   NaN  1/3/2022 11:01:00 AM         650 15TH ST  3142454.0   \n",
       "2                   NaN   1/3/2022 6:11:00 AM    919 E COLFAX AVE  3147484.0   \n",
       "3                   NaN   1/3/2022 9:12:00 PM  2345 W ALAMEDA AVE  3136478.0   \n",
       "4                   NaN   1/3/2022 8:31:00 PM     7800 E SMITH RD  3169237.0   \n",
       "\n",
       "       GEO_Y     GEO_LON    GEO_LAT  DISTRICT_ID  PRECINCT_ID  \\\n",
       "0  1685410.0 -105.018825  39.714268          4.0        411.0   \n",
       "1  1696151.0 -104.993418  39.743649          6.0        611.0   \n",
       "2  1694898.0 -104.975557  39.740130          6.0        621.0   \n",
       "3  1684414.0 -105.014892  39.711518          4.0        411.0   \n",
       "4  1705800.0 -104.897950  39.769688          5.0        512.0   \n",
       "\n",
       "      NEIGHBORHOOD_ID  IS_CRIME  IS_TRAFFIC  VICTIM_COUNT  \n",
       "0            valverde         1           0             1  \n",
       "1                 cbd         1           0             1  \n",
       "2  north-capitol-hill         1           0             1  \n",
       "3            valverde         1           0             1  \n",
       "4        central-park         1           0             1  "
      ]
     },
     "execution_count": 3,
     "metadata": {},
     "output_type": "execute_result"
    }
   ],
   "source": [
    "crimes.head()"
   ]
  },
  {
   "cell_type": "markdown",
   "id": "733284b4",
   "metadata": {},
   "source": [
    "## Step 1 \n",
    "&nbsp;&nbsp;&nbsp;&nbsp;&nbsp;&nbsp; First the FIRST_OCCURRENCE_DATE and REPORTED_DATE columns are updated to the correct type as planned in phase I. Initially both are of type object, we chose to convert them to pandas datetime objects and ISO format as both could be useful. Further we can see that 376812 values of FIRST_OCCURRENCE_DATE and REPORTED_DATE are changed here. Once the type has been changed, FIRST_OCCURRENCE_DATE with datetime formatting is saved as first_occurrence_date_dt and ISO formatting is saved as first_occurrence_date_isoformat and added to the crimes dataframe as new columns. Similarly with REPORTED_DATE the columns are saved as reported_date_dt and reported_date_isoformat respectively."
   ]
  },
  {
   "cell_type": "code",
   "execution_count": 4,
   "id": "4ecca6d1",
   "metadata": {},
   "outputs": [
    {
     "name": "stdout",
     "output_type": "stream",
     "text": [
      "<class 'pandas.core.frame.DataFrame'>\n",
      "RangeIndex: 376812 entries, 0 to 376811\n",
      "Data columns (total 20 columns):\n",
      " #   Column                  Non-Null Count   Dtype  \n",
      "---  ------                  --------------   -----  \n",
      " 0   incident_id             376812 non-null  int64  \n",
      " 1   offense_id              376812 non-null  int64  \n",
      " 2   OFFENSE_CODE            376812 non-null  int64  \n",
      " 3   OFFENSE_CODE_EXTENSION  376812 non-null  int64  \n",
      " 4   OFFENSE_TYPE_ID         376812 non-null  object \n",
      " 5   OFFENSE_CATEGORY_ID     376812 non-null  object \n",
      " 6   FIRST_OCCURRENCE_DATE   376812 non-null  object \n",
      " 7   LAST_OCCURRENCE_DATE    192816 non-null  object \n",
      " 8   REPORTED_DATE           376812 non-null  object \n",
      " 9   INCIDENT_ADDRESS        371545 non-null  object \n",
      " 10  GEO_X                   371545 non-null  float64\n",
      " 11  GEO_Y                   371545 non-null  float64\n",
      " 12  GEO_LON                 370963 non-null  float64\n",
      " 13  GEO_LAT                 370963 non-null  float64\n",
      " 14  DISTRICT_ID             376228 non-null  float64\n",
      " 15  PRECINCT_ID             376228 non-null  float64\n",
      " 16  NEIGHBORHOOD_ID         376228 non-null  object \n",
      " 17  IS_CRIME                376812 non-null  int64  \n",
      " 18  IS_TRAFFIC              376812 non-null  int64  \n",
      " 19  VICTIM_COUNT            376812 non-null  int64  \n",
      "dtypes: float64(6), int64(7), object(7)\n",
      "memory usage: 57.5+ MB\n"
     ]
    }
   ],
   "source": [
    "crimes.info()"
   ]
  },
  {
   "cell_type": "code",
   "execution_count": 5,
   "id": "f26e1844",
   "metadata": {},
   "outputs": [
    {
     "data": {
      "text/plain": [
       "376812"
      ]
     },
     "execution_count": 5,
     "metadata": {},
     "output_type": "execute_result"
    }
   ],
   "source": [
    "sum(crimes['FIRST_OCCURRENCE_DATE'].str.endswith(\"M\"))"
   ]
  },
  {
   "cell_type": "code",
   "execution_count": 6,
   "id": "07964984",
   "metadata": {},
   "outputs": [
    {
     "data": {
      "text/plain": [
       "376812"
      ]
     },
     "execution_count": 6,
     "metadata": {},
     "output_type": "execute_result"
    }
   ],
   "source": [
    "sum(crimes['REPORTED_DATE'].str.endswith(\"M\"))"
   ]
  },
  {
   "cell_type": "code",
   "execution_count": 7,
   "id": "a29fe41e",
   "metadata": {},
   "outputs": [],
   "source": [
    "# date type conversions for FIRST_OCCURRENCE_DATE\n",
    "crimes['first_occurrence_date_dt'] = pd.to_datetime(crimes['FIRST_OCCURRENCE_DATE'], format=\"%m/%d/%Y %I:%M:%S %p\")\n",
    "crimes['first_occurrence_date_isoformat'] = crimes['first_occurrence_date_dt'].apply(dt.datetime.isoformat)"
   ]
  },
  {
   "cell_type": "code",
   "execution_count": 8,
   "id": "d6227a81",
   "metadata": {},
   "outputs": [],
   "source": [
    "# date type conversions for REPORTED_DATE\n",
    "crimes['reported_date_dt'] = pd.to_datetime(crimes['REPORTED_DATE'], format=\"%m/%d/%Y %I:%M:%S %p\")\n",
    "crimes['reported_date_isoformat'] = crimes['reported_date_dt'].apply(dt.datetime.isoformat)"
   ]
  },
  {
   "cell_type": "markdown",
   "id": "1afdb38a",
   "metadata": {},
   "source": [
    "## Step 2\n",
    "&nbsp;&nbsp;&nbsp;&nbsp;&nbsp;&nbsp; Using .strip() the whitespace before and after the following columns: OFFENSE_TYPE_ID, OFFENSE_CATEGORY_ID, INCIDENT_ADDRESS, NEIGHBORHOOD_ID. These are columns that include strings which in pandas dataframes are converted to objects. Before performing the trim we see below that the columns don't have any leading or trailing whitespace, which we did not expect. We still run the trim function here and check for whitespaces again to confirm there are no whitespaces present.\n",
    "\n",
    "&nbsp;&nbsp;&nbsp;&nbsp;&nbsp;&nbsp; In addition, the special characters are removed from the INCIDENT_ADDRESS column. The columns are also renamed to OFFENSE_TYPE_ID_trim, OFFENSE_CATEGORY_ID_trim, INCIDENT_ADDRESS_trim, and NEIGHBORHOOD_ID_trim. Thus far all of the steps have been planned for and executed from phase I, however the next step listed in phase I : \"adjust address column name or add city, state,and zip to make a full address\" is skipped. This is because, in order to make a full address with zip and city we would need to query an outside API which would go beyond the scope of this project. Instead, this column is renamed to INCIDENT_STREET which more accurately describes the data.. "
   ]
  },
  {
   "cell_type": "code",
   "execution_count": 9,
   "id": "b25c5952",
   "metadata": {},
   "outputs": [
    {
     "data": {
      "text/plain": [
       "0"
      ]
     },
     "execution_count": 9,
     "metadata": {},
     "output_type": "execute_result"
    }
   ],
   "source": [
    "# checking for leading and trailing white spaces \n",
    "crimes['OFFENSE_TYPE_ID'].str.startswith(\" \").sum() + crimes['OFFENSE_TYPE_ID'].str.endswith(\" \").sum()"
   ]
  },
  {
   "cell_type": "code",
   "execution_count": 10,
   "id": "159cdad7",
   "metadata": {},
   "outputs": [
    {
     "data": {
      "text/plain": [
       "0"
      ]
     },
     "execution_count": 10,
     "metadata": {},
     "output_type": "execute_result"
    }
   ],
   "source": [
    "# checking for leading and trailing white spaces \n",
    "crimes['OFFENSE_CATEGORY_ID'].str.startswith(\" \").sum() + crimes['OFFENSE_CATEGORY_ID'].str.endswith(\" \").sum()"
   ]
  },
  {
   "cell_type": "code",
   "execution_count": 11,
   "id": "3b32a089",
   "metadata": {},
   "outputs": [
    {
     "data": {
      "text/plain": [
       "0"
      ]
     },
     "execution_count": 11,
     "metadata": {},
     "output_type": "execute_result"
    }
   ],
   "source": [
    "# checking for leading and trailing white spaces \n",
    "crimes['INCIDENT_ADDRESS'].str.startswith(\" \").sum() + crimes['INCIDENT_ADDRESS'].str.endswith(\" \").sum()"
   ]
  },
  {
   "cell_type": "code",
   "execution_count": 12,
   "id": "96f751bc",
   "metadata": {},
   "outputs": [
    {
     "data": {
      "text/plain": [
       "0"
      ]
     },
     "execution_count": 12,
     "metadata": {},
     "output_type": "execute_result"
    }
   ],
   "source": [
    "# checking for leading and trailing white spaces \n",
    "crimes['NEIGHBORHOOD_ID'].str.startswith(\" \").sum() + crimes['NEIGHBORHOOD_ID'].str.endswith(\" \").sum()"
   ]
  },
  {
   "cell_type": "code",
   "execution_count": 13,
   "id": "58a85d61",
   "metadata": {},
   "outputs": [],
   "source": [
    "# running .trim() and adding new columns with results \n",
    "crimes['OFFENSE_TYPE_ID_trim'] = crimes.OFFENSE_TYPE_ID.str.strip()\n",
    "crimes['OFFENSE_CATEGORY_ID_trim'] = crimes.OFFENSE_CATEGORY_ID.str.strip()\n",
    "crimes['INCIDENT_ADDRESS_trim'] = crimes.INCIDENT_ADDRESS.str.strip()\n",
    "crimes['NEIGHBORHOOD_ID_trim'] = crimes.NEIGHBORHOOD_ID.str.strip()"
   ]
  },
  {
   "cell_type": "code",
   "execution_count": 14,
   "id": "78dcb3f0",
   "metadata": {},
   "outputs": [
    {
     "data": {
      "text/plain": [
       "0"
      ]
     },
     "execution_count": 14,
     "metadata": {},
     "output_type": "execute_result"
    }
   ],
   "source": [
    "# double checking whitespace after running .trim()\n",
    "crimes['OFFENSE_TYPE_ID_trim'].str.startswith(\" \").sum() + crimes['OFFENSE_TYPE_ID_trim'].str.endswith(\" \").sum()"
   ]
  },
  {
   "cell_type": "code",
   "execution_count": 15,
   "id": "301f03d9",
   "metadata": {},
   "outputs": [
    {
     "data": {
      "text/plain": [
       "0"
      ]
     },
     "execution_count": 15,
     "metadata": {},
     "output_type": "execute_result"
    }
   ],
   "source": [
    "# double checking whitespace after running .trim()\n",
    "crimes['OFFENSE_CATEGORY_ID_trim'].str.startswith(\" \").sum() + crimes['OFFENSE_CATEGORY_ID_trim'].str.endswith(\" \").sum()"
   ]
  },
  {
   "cell_type": "code",
   "execution_count": 16,
   "id": "e1050a5d",
   "metadata": {},
   "outputs": [
    {
     "data": {
      "text/plain": [
       "0"
      ]
     },
     "execution_count": 16,
     "metadata": {},
     "output_type": "execute_result"
    }
   ],
   "source": [
    "# double checking whitespace after running .trim()\n",
    "crimes['INCIDENT_ADDRESS_trim'].str.startswith(\" \").sum() + crimes['INCIDENT_ADDRESS_trim'].str.endswith(\" \").sum()"
   ]
  },
  {
   "cell_type": "code",
   "execution_count": 17,
   "id": "0f7f7349",
   "metadata": {},
   "outputs": [
    {
     "data": {
      "text/plain": [
       "0"
      ]
     },
     "execution_count": 17,
     "metadata": {},
     "output_type": "execute_result"
    }
   ],
   "source": [
    "# double checking whitespace after running .trim()\n",
    "crimes['NEIGHBORHOOD_ID_trim'].str.startswith(\" \").sum() + crimes['NEIGHBORHOOD_ID_trim'].str.endswith(\" \").sum()"
   ]
  },
  {
   "cell_type": "code",
   "execution_count": 18,
   "id": "9ffef3cd",
   "metadata": {},
   "outputs": [
    {
     "data": {
      "text/plain": [
       "32305"
      ]
     },
     "execution_count": 18,
     "metadata": {},
     "output_type": "execute_result"
    }
   ],
   "source": [
    "# checking how many incident addresses contain special characters \n",
    "crimes['INCIDENT_ADDRESS_trim'].str.contains(r'[^\\w\\s]|_', regex=True).sum()"
   ]
  },
  {
   "cell_type": "code",
   "execution_count": 19,
   "id": "96f527a4",
   "metadata": {},
   "outputs": [],
   "source": [
    "# remove special characters from incident_address_trim \n",
    "crimes['INCIDENT_ADDRESS_trim'] = crimes['INCIDENT_ADDRESS_trim'].replace(r'[^\\w\\s]|_', '', regex=True)"
   ]
  },
  {
   "cell_type": "code",
   "execution_count": 20,
   "id": "fcd6b091",
   "metadata": {},
   "outputs": [
    {
     "data": {
      "text/plain": [
       "0"
      ]
     },
     "execution_count": 20,
     "metadata": {},
     "output_type": "execute_result"
    }
   ],
   "source": [
    "# checking how many incident addresses contain special characters after removing with regex\n",
    "crimes['INCIDENT_ADDRESS_trim'].str.contains(r'[^\\w\\s]|_', regex=True).sum()"
   ]
  },
  {
   "cell_type": "code",
   "execution_count": 21,
   "id": "ea49608b",
   "metadata": {},
   "outputs": [],
   "source": [
    "# renaming INCIDENT_ADDRESS_trim\n",
    "crimes.rename(columns = {'INCIDENT_ADDRESS_trim':'INCIDENT_STREET'}, inplace = True)"
   ]
  },
  {
   "cell_type": "markdown",
   "id": "ba077a16",
   "metadata": {},
   "source": [
    "## Step 3\n",
    "&nbsp;&nbsp;&nbsp;&nbsp;&nbsp;&nbsp; Initially mentioned later in the phase 1 proposal, a few columns are dropped in this step. Columns are dropped here as well as when joining the tables as planned because many columns are now duplicated versions we have made in conversions, some columns are not needed, and it makes the dataframe easier to work with as there are fewer columns to keep track of."
   ]
  },
  {
   "cell_type": "code",
   "execution_count": 22,
   "id": "ea6928b8",
   "metadata": {},
   "outputs": [
    {
     "data": {
      "text/plain": [
       "['incident_id',\n",
       " 'offense_id',\n",
       " 'OFFENSE_CODE',\n",
       " 'OFFENSE_CODE_EXTENSION',\n",
       " 'OFFENSE_TYPE_ID',\n",
       " 'OFFENSE_CATEGORY_ID',\n",
       " 'FIRST_OCCURRENCE_DATE',\n",
       " 'LAST_OCCURRENCE_DATE',\n",
       " 'REPORTED_DATE',\n",
       " 'INCIDENT_ADDRESS',\n",
       " 'GEO_X',\n",
       " 'GEO_Y',\n",
       " 'GEO_LON',\n",
       " 'GEO_LAT',\n",
       " 'DISTRICT_ID',\n",
       " 'PRECINCT_ID',\n",
       " 'NEIGHBORHOOD_ID',\n",
       " 'IS_CRIME',\n",
       " 'IS_TRAFFIC',\n",
       " 'VICTIM_COUNT',\n",
       " 'first_occurrence_date_dt',\n",
       " 'first_occurrence_date_isoformat',\n",
       " 'reported_date_dt',\n",
       " 'reported_date_isoformat',\n",
       " 'OFFENSE_TYPE_ID_trim',\n",
       " 'OFFENSE_CATEGORY_ID_trim',\n",
       " 'INCIDENT_STREET',\n",
       " 'NEIGHBORHOOD_ID_trim']"
      ]
     },
     "execution_count": 22,
     "metadata": {},
     "output_type": "execute_result"
    }
   ],
   "source": [
    "# listing all the columns we currently have \n",
    "list(crimes)"
   ]
  },
  {
   "cell_type": "markdown",
   "id": "582abd7a",
   "metadata": {},
   "source": [
    "### Dropped columns\n",
    "\n",
    "| Column Name      | Reason Dropped |\n",
    "| :---       |    :---    |  \n",
    "| LAST_OCCURRENCE_DATE      | large amount of missing data            | \n",
    "| FIRST_OCCURRENCE_DATE     | replaced with formatted version of date | \n",
    "| REPORTED_DATE             | replaced with formatted version of date |\n",
    "| OFFENSE_TYPE_ID           | we will be using the offense data from the offense table when joined to provide more accurate description so this is not needed                            |\n",
    "|OFFENSE_CATEGORY_ID        | we will be using the offense data from the offense table when joined to provide more accurate description so this is not needed                            |\n",
    "|INCIDENT_ADDRESS           | trimed, special characters removed and renamed to INCIDENT_STREET for data accuracy |\n",
    "|NEIGHBORHOOD_ID            | replaced with NEIGHBORHOOD_ID_trim      |"
   ]
  },
  {
   "cell_type": "code",
   "execution_count": 23,
   "id": "e549b634",
   "metadata": {},
   "outputs": [
    {
     "data": {
      "text/plain": [
       "183996"
      ]
     },
     "execution_count": 23,
     "metadata": {},
     "output_type": "execute_result"
    }
   ],
   "source": [
    "# missing data\n",
    "crimes['LAST_OCCURRENCE_DATE'].isna().sum()"
   ]
  },
  {
   "cell_type": "code",
   "execution_count": 24,
   "id": "8e2412a1",
   "metadata": {},
   "outputs": [],
   "source": [
    "# dropping columns\n",
    "crimes = crimes.drop(columns=['LAST_OCCURRENCE_DATE','FIRST_OCCURRENCE_DATE','REPORTED_DATE','OFFENSE_TYPE_ID','OFFENSE_CATEGORY_ID','INCIDENT_ADDRESS','NEIGHBORHOOD_ID'])\n"
   ]
  },
  {
   "cell_type": "code",
   "execution_count": 25,
   "id": "5704bc3c",
   "metadata": {},
   "outputs": [
    {
     "data": {
      "text/plain": [
       "['incident_id',\n",
       " 'offense_id',\n",
       " 'OFFENSE_CODE',\n",
       " 'OFFENSE_CODE_EXTENSION',\n",
       " 'GEO_X',\n",
       " 'GEO_Y',\n",
       " 'GEO_LON',\n",
       " 'GEO_LAT',\n",
       " 'DISTRICT_ID',\n",
       " 'PRECINCT_ID',\n",
       " 'IS_CRIME',\n",
       " 'IS_TRAFFIC',\n",
       " 'VICTIM_COUNT',\n",
       " 'first_occurrence_date_dt',\n",
       " 'first_occurrence_date_isoformat',\n",
       " 'reported_date_dt',\n",
       " 'reported_date_isoformat',\n",
       " 'OFFENSE_TYPE_ID_trim',\n",
       " 'OFFENSE_CATEGORY_ID_trim',\n",
       " 'INCIDENT_STREET',\n",
       " 'NEIGHBORHOOD_ID_trim']"
      ]
     },
     "execution_count": 25,
     "metadata": {},
     "output_type": "execute_result"
    }
   ],
   "source": [
    "# columns after drop \n",
    "list(crimes)"
   ]
  },
  {
   "cell_type": "markdown",
   "id": "339eb444",
   "metadata": {},
   "source": [
    "## Step 4 \n",
    "&nbsp;&nbsp;&nbsp;&nbsp;&nbsp;&nbsp; Next NEIGHBORHOOD_ID_trim must be cleaned. In phase I, one of the steps was to consolidate the neighborhood ID column and remove garbage values. This ended up requiring more work than expected because of all the missing values. Since this is an important column, we calculate the haversine distance / great circle distance between each incident location and all other average neighborhood locations. Before this we ensure that columns are named correctly, check the uniqueness, and calculate the NA amount."
   ]
  },
  {
   "cell_type": "code",
   "execution_count": 26,
   "id": "36ee3e37",
   "metadata": {},
   "outputs": [
    {
     "data": {
      "text/plain": [
       "array(['valverde', 'cbd', 'north-capitol-hill', 'central-park',\n",
       "       'cory-merrill', 'capitol-hill', 'belcaro', 'lincoln-park',\n",
       "       'villa-park', 'cheesman-park', 'virginia-village', 'highland',\n",
       "       'windsor', 'marston', 'five-points', 'west-colfax', 'sun-valley',\n",
       "       'hampden-south', 'hampden', 'dia', 'university', 'cherry-creek',\n",
       "       'gateway-green-valley-ranch', 'east-colfax', 'west-highland',\n",
       "       'mar-lee', 'elyria-swansea', 'union-station', 'university-park',\n",
       "       'jefferson-park', 'washington-park', 'lowry-field',\n",
       "       'university-hills', 'goldsmith', 'baker', 'city-park-west',\n",
       "       'civic-center', 'ruby-hill', 'northeast-park-hill', 'barnum-west',\n",
       "       'montbello', 'wellshire', 'speer', 'fort-logan', 'bear-valley',\n",
       "       'overland', 'kennedy', 'harvey-park-south', 'sunnyside',\n",
       "       'athmar-park', 'hilltop', 'harvey-park', 'clayton', 'westwood',\n",
       "       'globeville', 'regis', 'hale', 'washington-virginia-vale', 'cole',\n",
       "       'south-park-hill', 'sloan-lake', 'whittier', 'congress-park',\n",
       "       'washington-park-west', 'north-park-hill', 'montclair',\n",
       "       'platt-park', 'city-park', 'college-view-south-platte', 'berkeley',\n",
       "       'auraria', 'rosedale', 'southmoor-park', 'barnum', 'indian-creek',\n",
       "       'country-club', 'chaffee-park', 'skyland', nan], dtype=object)"
      ]
     },
     "execution_count": 26,
     "metadata": {},
     "output_type": "execute_result"
    }
   ],
   "source": [
    "crimes['NEIGHBORHOOD_ID_trim'].unique()"
   ]
  },
  {
   "cell_type": "code",
   "execution_count": 27,
   "id": "f7c24a47",
   "metadata": {},
   "outputs": [
    {
     "data": {
      "text/plain": [
       "79"
      ]
     },
     "execution_count": 27,
     "metadata": {},
     "output_type": "execute_result"
    }
   ],
   "source": [
    "len(crimes['NEIGHBORHOOD_ID_trim'].unique())"
   ]
  },
  {
   "cell_type": "code",
   "execution_count": 28,
   "id": "c5499c16",
   "metadata": {},
   "outputs": [],
   "source": [
    "#covert neighborhood_ID_trim with name cbd to central business district for clarity\n",
    "crimes['NEIGHBORHOOD_ID_trim'] = crimes['NEIGHBORHOOD_ID_trim'].replace({'cbd':'central-business-district'})"
   ]
  },
  {
   "cell_type": "code",
   "execution_count": 29,
   "id": "78b5dbc9",
   "metadata": {},
   "outputs": [
    {
     "data": {
      "text/plain": [
       "array(['valverde', 'central-business-district', 'north-capitol-hill',\n",
       "       'central-park', 'cory-merrill', 'capitol-hill', 'belcaro',\n",
       "       'lincoln-park', 'villa-park', 'cheesman-park', 'virginia-village',\n",
       "       'highland', 'windsor', 'marston', 'five-points', 'west-colfax',\n",
       "       'sun-valley', 'hampden-south', 'hampden', 'dia', 'university',\n",
       "       'cherry-creek', 'gateway-green-valley-ranch', 'east-colfax',\n",
       "       'west-highland', 'mar-lee', 'elyria-swansea', 'union-station',\n",
       "       'university-park', 'jefferson-park', 'washington-park',\n",
       "       'lowry-field', 'university-hills', 'goldsmith', 'baker',\n",
       "       'city-park-west', 'civic-center', 'ruby-hill',\n",
       "       'northeast-park-hill', 'barnum-west', 'montbello', 'wellshire',\n",
       "       'speer', 'fort-logan', 'bear-valley', 'overland', 'kennedy',\n",
       "       'harvey-park-south', 'sunnyside', 'athmar-park', 'hilltop',\n",
       "       'harvey-park', 'clayton', 'westwood', 'globeville', 'regis',\n",
       "       'hale', 'washington-virginia-vale', 'cole', 'south-park-hill',\n",
       "       'sloan-lake', 'whittier', 'congress-park', 'washington-park-west',\n",
       "       'north-park-hill', 'montclair', 'platt-park', 'city-park',\n",
       "       'college-view-south-platte', 'berkeley', 'auraria', 'rosedale',\n",
       "       'southmoor-park', 'barnum', 'indian-creek', 'country-club',\n",
       "       'chaffee-park', 'skyland', nan], dtype=object)"
      ]
     },
     "execution_count": 29,
     "metadata": {},
     "output_type": "execute_result"
    }
   ],
   "source": [
    "crimes['NEIGHBORHOOD_ID_trim'].unique()"
   ]
  },
  {
   "cell_type": "code",
   "execution_count": 30,
   "id": "aa7848dd",
   "metadata": {},
   "outputs": [
    {
     "data": {
      "text/plain": [
       "79"
      ]
     },
     "execution_count": 30,
     "metadata": {},
     "output_type": "execute_result"
    }
   ],
   "source": [
    "len(crimes['NEIGHBORHOOD_ID_trim'].unique())"
   ]
  },
  {
   "cell_type": "code",
   "execution_count": 31,
   "id": "fcc55e99",
   "metadata": {},
   "outputs": [
    {
     "data": {
      "text/html": [
       "<div>\n",
       "<style scoped>\n",
       "    .dataframe tbody tr th:only-of-type {\n",
       "        vertical-align: middle;\n",
       "    }\n",
       "\n",
       "    .dataframe tbody tr th {\n",
       "        vertical-align: top;\n",
       "    }\n",
       "\n",
       "    .dataframe thead th {\n",
       "        text-align: right;\n",
       "    }\n",
       "</style>\n",
       "<table border=\"1\" class=\"dataframe\">\n",
       "  <thead>\n",
       "    <tr style=\"text-align: right;\">\n",
       "      <th></th>\n",
       "      <th>incident_id</th>\n",
       "      <th>offense_id</th>\n",
       "      <th>OFFENSE_CODE</th>\n",
       "      <th>OFFENSE_CODE_EXTENSION</th>\n",
       "      <th>GEO_X</th>\n",
       "      <th>GEO_Y</th>\n",
       "      <th>GEO_LON</th>\n",
       "      <th>GEO_LAT</th>\n",
       "      <th>DISTRICT_ID</th>\n",
       "      <th>PRECINCT_ID</th>\n",
       "      <th>...</th>\n",
       "      <th>IS_TRAFFIC</th>\n",
       "      <th>VICTIM_COUNT</th>\n",
       "      <th>first_occurrence_date_dt</th>\n",
       "      <th>first_occurrence_date_isoformat</th>\n",
       "      <th>reported_date_dt</th>\n",
       "      <th>reported_date_isoformat</th>\n",
       "      <th>OFFENSE_TYPE_ID_trim</th>\n",
       "      <th>OFFENSE_CATEGORY_ID_trim</th>\n",
       "      <th>INCIDENT_STREET</th>\n",
       "      <th>NEIGHBORHOOD_ID_trim</th>\n",
       "    </tr>\n",
       "  </thead>\n",
       "  <tbody>\n",
       "    <tr>\n",
       "      <th>359405</th>\n",
       "      <td>2022307631</td>\n",
       "      <td>2022307631299900</td>\n",
       "      <td>2999</td>\n",
       "      <td>0</td>\n",
       "      <td>3147195.0</td>\n",
       "      <td>1695029.0</td>\n",
       "      <td>NaN</td>\n",
       "      <td>NaN</td>\n",
       "      <td>NaN</td>\n",
       "      <td>NaN</td>\n",
       "      <td>...</td>\n",
       "      <td>0</td>\n",
       "      <td>1</td>\n",
       "      <td>2022-06-17 19:33:00</td>\n",
       "      <td>2022-06-17T19:33:00</td>\n",
       "      <td>2022-06-17 20:06:00</td>\n",
       "      <td>2022-06-17T20:06:00</td>\n",
       "      <td>criminal-mischief-other</td>\n",
       "      <td>public-disorder</td>\n",
       "      <td>857 E COLFAX AVE</td>\n",
       "      <td>NaN</td>\n",
       "    </tr>\n",
       "    <tr>\n",
       "      <th>359409</th>\n",
       "      <td>2022308867</td>\n",
       "      <td>2022308867299900</td>\n",
       "      <td>2999</td>\n",
       "      <td>0</td>\n",
       "      <td>3174073.0</td>\n",
       "      <td>1689429.0</td>\n",
       "      <td>NaN</td>\n",
       "      <td>NaN</td>\n",
       "      <td>NaN</td>\n",
       "      <td>NaN</td>\n",
       "      <td>...</td>\n",
       "      <td>0</td>\n",
       "      <td>1</td>\n",
       "      <td>2022-06-18 12:44:00</td>\n",
       "      <td>2022-06-18T12:44:00</td>\n",
       "      <td>2022-06-18 14:34:00</td>\n",
       "      <td>2022-06-18T14:34:00</td>\n",
       "      <td>criminal-mischief-other</td>\n",
       "      <td>public-disorder</td>\n",
       "      <td>9100 E LOWRY BLVD</td>\n",
       "      <td>NaN</td>\n",
       "    </tr>\n",
       "    <tr>\n",
       "      <th>359410</th>\n",
       "      <td>2022305932</td>\n",
       "      <td>2022305932299900</td>\n",
       "      <td>2999</td>\n",
       "      <td>0</td>\n",
       "      <td>3142958.0</td>\n",
       "      <td>1672196.0</td>\n",
       "      <td>NaN</td>\n",
       "      <td>NaN</td>\n",
       "      <td>NaN</td>\n",
       "      <td>NaN</td>\n",
       "      <td>...</td>\n",
       "      <td>0</td>\n",
       "      <td>1</td>\n",
       "      <td>2022-06-16 23:35:00</td>\n",
       "      <td>2022-06-16T23:35:00</td>\n",
       "      <td>2022-06-16 23:35:00</td>\n",
       "      <td>2022-06-16T23:35:00</td>\n",
       "      <td>criminal-mischief-other</td>\n",
       "      <td>public-disorder</td>\n",
       "      <td>2140 S DELAWARE ST</td>\n",
       "      <td>NaN</td>\n",
       "    </tr>\n",
       "    <tr>\n",
       "      <th>359412</th>\n",
       "      <td>2022310449</td>\n",
       "      <td>2022310449299900</td>\n",
       "      <td>2999</td>\n",
       "      <td>0</td>\n",
       "      <td>3184346.0</td>\n",
       "      <td>1712762.0</td>\n",
       "      <td>NaN</td>\n",
       "      <td>NaN</td>\n",
       "      <td>NaN</td>\n",
       "      <td>NaN</td>\n",
       "      <td>...</td>\n",
       "      <td>0</td>\n",
       "      <td>1</td>\n",
       "      <td>2022-06-19 09:25:00</td>\n",
       "      <td>2022-06-19T09:25:00</td>\n",
       "      <td>2022-06-19 11:17:00</td>\n",
       "      <td>2022-06-19T11:17:00</td>\n",
       "      <td>criminal-mischief-other</td>\n",
       "      <td>public-disorder</td>\n",
       "      <td>5063 N SCRANTON ST</td>\n",
       "      <td>NaN</td>\n",
       "    </tr>\n",
       "    <tr>\n",
       "      <th>359413</th>\n",
       "      <td>20226011416</td>\n",
       "      <td>20226011416299900</td>\n",
       "      <td>2999</td>\n",
       "      <td>0</td>\n",
       "      <td>3209045.0</td>\n",
       "      <td>1711845.0</td>\n",
       "      <td>NaN</td>\n",
       "      <td>NaN</td>\n",
       "      <td>NaN</td>\n",
       "      <td>NaN</td>\n",
       "      <td>...</td>\n",
       "      <td>0</td>\n",
       "      <td>1</td>\n",
       "      <td>2022-06-18 20:00:00</td>\n",
       "      <td>2022-06-18T20:00:00</td>\n",
       "      <td>2022-06-19 18:48:00</td>\n",
       "      <td>2022-06-19T18:48:00</td>\n",
       "      <td>criminal-mischief-other</td>\n",
       "      <td>public-disorder</td>\n",
       "      <td>4853 N HALIFAX CT</td>\n",
       "      <td>NaN</td>\n",
       "    </tr>\n",
       "    <tr>\n",
       "      <th>...</th>\n",
       "      <td>...</td>\n",
       "      <td>...</td>\n",
       "      <td>...</td>\n",
       "      <td>...</td>\n",
       "      <td>...</td>\n",
       "      <td>...</td>\n",
       "      <td>...</td>\n",
       "      <td>...</td>\n",
       "      <td>...</td>\n",
       "      <td>...</td>\n",
       "      <td>...</td>\n",
       "      <td>...</td>\n",
       "      <td>...</td>\n",
       "      <td>...</td>\n",
       "      <td>...</td>\n",
       "      <td>...</td>\n",
       "      <td>...</td>\n",
       "      <td>...</td>\n",
       "      <td>...</td>\n",
       "      <td>...</td>\n",
       "      <td>...</td>\n",
       "    </tr>\n",
       "    <tr>\n",
       "      <th>360347</th>\n",
       "      <td>20226011252</td>\n",
       "      <td>20226011252260900</td>\n",
       "      <td>2609</td>\n",
       "      <td>0</td>\n",
       "      <td>3130968.0</td>\n",
       "      <td>1686400.0</td>\n",
       "      <td>NaN</td>\n",
       "      <td>NaN</td>\n",
       "      <td>NaN</td>\n",
       "      <td>NaN</td>\n",
       "      <td>...</td>\n",
       "      <td>0</td>\n",
       "      <td>1</td>\n",
       "      <td>2022-06-11 12:45:00</td>\n",
       "      <td>2022-06-11T12:45:00</td>\n",
       "      <td>2022-06-16 10:50:00</td>\n",
       "      <td>2022-06-16T10:50:00</td>\n",
       "      <td>fraud-by-use-of-computer</td>\n",
       "      <td>white-collar-crime</td>\n",
       "      <td>20 N LOWELL BLVD</td>\n",
       "      <td>NaN</td>\n",
       "    </tr>\n",
       "    <tr>\n",
       "      <th>360348</th>\n",
       "      <td>2022300759</td>\n",
       "      <td>2022300759260900</td>\n",
       "      <td>2609</td>\n",
       "      <td>0</td>\n",
       "      <td>3140838.0</td>\n",
       "      <td>1694464.0</td>\n",
       "      <td>NaN</td>\n",
       "      <td>NaN</td>\n",
       "      <td>NaN</td>\n",
       "      <td>NaN</td>\n",
       "      <td>...</td>\n",
       "      <td>0</td>\n",
       "      <td>1</td>\n",
       "      <td>2022-05-31 00:00:00</td>\n",
       "      <td>2022-05-31T00:00:00</td>\n",
       "      <td>2022-06-14 11:00:00</td>\n",
       "      <td>2022-06-14T11:00:00</td>\n",
       "      <td>fraud-by-use-of-computer</td>\n",
       "      <td>white-collar-crime</td>\n",
       "      <td>901 W 14TH AVE</td>\n",
       "      <td>NaN</td>\n",
       "    </tr>\n",
       "    <tr>\n",
       "      <th>360349</th>\n",
       "      <td>2022306766</td>\n",
       "      <td>2022306766260900</td>\n",
       "      <td>2609</td>\n",
       "      <td>0</td>\n",
       "      <td>3163327.0</td>\n",
       "      <td>1709344.0</td>\n",
       "      <td>NaN</td>\n",
       "      <td>NaN</td>\n",
       "      <td>NaN</td>\n",
       "      <td>NaN</td>\n",
       "      <td>...</td>\n",
       "      <td>0</td>\n",
       "      <td>1</td>\n",
       "      <td>2022-04-28 08:00:00</td>\n",
       "      <td>2022-04-28T08:00:00</td>\n",
       "      <td>2022-06-17 13:27:00</td>\n",
       "      <td>2022-06-17T13:27:00</td>\n",
       "      <td>fraud-by-use-of-computer</td>\n",
       "      <td>white-collar-crime</td>\n",
       "      <td>5885 E STAPLETON N DR</td>\n",
       "      <td>NaN</td>\n",
       "    </tr>\n",
       "    <tr>\n",
       "      <th>360351</th>\n",
       "      <td>20228026207</td>\n",
       "      <td>20228026207269903</td>\n",
       "      <td>2699</td>\n",
       "      <td>3</td>\n",
       "      <td>3223441.0</td>\n",
       "      <td>1728516.0</td>\n",
       "      <td>NaN</td>\n",
       "      <td>NaN</td>\n",
       "      <td>NaN</td>\n",
       "      <td>NaN</td>\n",
       "      <td>...</td>\n",
       "      <td>0</td>\n",
       "      <td>1</td>\n",
       "      <td>2022-06-18 06:07:00</td>\n",
       "      <td>2022-06-18T06:07:00</td>\n",
       "      <td>2022-06-18 07:32:00</td>\n",
       "      <td>2022-06-18T07:32:00</td>\n",
       "      <td>theft-of-services</td>\n",
       "      <td>larceny</td>\n",
       "      <td>24300 E 75TH AVE</td>\n",
       "      <td>NaN</td>\n",
       "    </tr>\n",
       "    <tr>\n",
       "      <th>360352</th>\n",
       "      <td>2022306468</td>\n",
       "      <td>2022306468269903</td>\n",
       "      <td>2699</td>\n",
       "      <td>3</td>\n",
       "      <td>3133373.0</td>\n",
       "      <td>1695856.0</td>\n",
       "      <td>NaN</td>\n",
       "      <td>NaN</td>\n",
       "      <td>NaN</td>\n",
       "      <td>NaN</td>\n",
       "      <td>...</td>\n",
       "      <td>0</td>\n",
       "      <td>1</td>\n",
       "      <td>2022-06-17 08:00:00</td>\n",
       "      <td>2022-06-17T08:00:00</td>\n",
       "      <td>2022-06-17 09:34:00</td>\n",
       "      <td>2022-06-17T09:34:00</td>\n",
       "      <td>theft-of-services</td>\n",
       "      <td>larceny</td>\n",
       "      <td>1605 N FEDERAL BLVD</td>\n",
       "      <td>NaN</td>\n",
       "    </tr>\n",
       "  </tbody>\n",
       "</table>\n",
       "<p>584 rows × 21 columns</p>\n",
       "</div>"
      ],
      "text/plain": [
       "        incident_id         offense_id  OFFENSE_CODE  OFFENSE_CODE_EXTENSION  \\\n",
       "359405   2022307631   2022307631299900          2999                       0   \n",
       "359409   2022308867   2022308867299900          2999                       0   \n",
       "359410   2022305932   2022305932299900          2999                       0   \n",
       "359412   2022310449   2022310449299900          2999                       0   \n",
       "359413  20226011416  20226011416299900          2999                       0   \n",
       "...             ...                ...           ...                     ...   \n",
       "360347  20226011252  20226011252260900          2609                       0   \n",
       "360348   2022300759   2022300759260900          2609                       0   \n",
       "360349   2022306766   2022306766260900          2609                       0   \n",
       "360351  20228026207  20228026207269903          2699                       3   \n",
       "360352   2022306468   2022306468269903          2699                       3   \n",
       "\n",
       "            GEO_X      GEO_Y  GEO_LON  GEO_LAT  DISTRICT_ID  PRECINCT_ID  ...  \\\n",
       "359405  3147195.0  1695029.0      NaN      NaN          NaN          NaN  ...   \n",
       "359409  3174073.0  1689429.0      NaN      NaN          NaN          NaN  ...   \n",
       "359410  3142958.0  1672196.0      NaN      NaN          NaN          NaN  ...   \n",
       "359412  3184346.0  1712762.0      NaN      NaN          NaN          NaN  ...   \n",
       "359413  3209045.0  1711845.0      NaN      NaN          NaN          NaN  ...   \n",
       "...           ...        ...      ...      ...          ...          ...  ...   \n",
       "360347  3130968.0  1686400.0      NaN      NaN          NaN          NaN  ...   \n",
       "360348  3140838.0  1694464.0      NaN      NaN          NaN          NaN  ...   \n",
       "360349  3163327.0  1709344.0      NaN      NaN          NaN          NaN  ...   \n",
       "360351  3223441.0  1728516.0      NaN      NaN          NaN          NaN  ...   \n",
       "360352  3133373.0  1695856.0      NaN      NaN          NaN          NaN  ...   \n",
       "\n",
       "        IS_TRAFFIC  VICTIM_COUNT  first_occurrence_date_dt  \\\n",
       "359405           0             1       2022-06-17 19:33:00   \n",
       "359409           0             1       2022-06-18 12:44:00   \n",
       "359410           0             1       2022-06-16 23:35:00   \n",
       "359412           0             1       2022-06-19 09:25:00   \n",
       "359413           0             1       2022-06-18 20:00:00   \n",
       "...            ...           ...                       ...   \n",
       "360347           0             1       2022-06-11 12:45:00   \n",
       "360348           0             1       2022-05-31 00:00:00   \n",
       "360349           0             1       2022-04-28 08:00:00   \n",
       "360351           0             1       2022-06-18 06:07:00   \n",
       "360352           0             1       2022-06-17 08:00:00   \n",
       "\n",
       "       first_occurrence_date_isoformat    reported_date_dt  \\\n",
       "359405             2022-06-17T19:33:00 2022-06-17 20:06:00   \n",
       "359409             2022-06-18T12:44:00 2022-06-18 14:34:00   \n",
       "359410             2022-06-16T23:35:00 2022-06-16 23:35:00   \n",
       "359412             2022-06-19T09:25:00 2022-06-19 11:17:00   \n",
       "359413             2022-06-18T20:00:00 2022-06-19 18:48:00   \n",
       "...                                ...                 ...   \n",
       "360347             2022-06-11T12:45:00 2022-06-16 10:50:00   \n",
       "360348             2022-05-31T00:00:00 2022-06-14 11:00:00   \n",
       "360349             2022-04-28T08:00:00 2022-06-17 13:27:00   \n",
       "360351             2022-06-18T06:07:00 2022-06-18 07:32:00   \n",
       "360352             2022-06-17T08:00:00 2022-06-17 09:34:00   \n",
       "\n",
       "       reported_date_isoformat      OFFENSE_TYPE_ID_trim  \\\n",
       "359405     2022-06-17T20:06:00   criminal-mischief-other   \n",
       "359409     2022-06-18T14:34:00   criminal-mischief-other   \n",
       "359410     2022-06-16T23:35:00   criminal-mischief-other   \n",
       "359412     2022-06-19T11:17:00   criminal-mischief-other   \n",
       "359413     2022-06-19T18:48:00   criminal-mischief-other   \n",
       "...                        ...                       ...   \n",
       "360347     2022-06-16T10:50:00  fraud-by-use-of-computer   \n",
       "360348     2022-06-14T11:00:00  fraud-by-use-of-computer   \n",
       "360349     2022-06-17T13:27:00  fraud-by-use-of-computer   \n",
       "360351     2022-06-18T07:32:00         theft-of-services   \n",
       "360352     2022-06-17T09:34:00         theft-of-services   \n",
       "\n",
       "       OFFENSE_CATEGORY_ID_trim        INCIDENT_STREET NEIGHBORHOOD_ID_trim  \n",
       "359405          public-disorder       857 E COLFAX AVE                  NaN  \n",
       "359409          public-disorder      9100 E LOWRY BLVD                  NaN  \n",
       "359410          public-disorder     2140 S DELAWARE ST                  NaN  \n",
       "359412          public-disorder     5063 N SCRANTON ST                  NaN  \n",
       "359413          public-disorder      4853 N HALIFAX CT                  NaN  \n",
       "...                         ...                    ...                  ...  \n",
       "360347       white-collar-crime       20 N LOWELL BLVD                  NaN  \n",
       "360348       white-collar-crime         901 W 14TH AVE                  NaN  \n",
       "360349       white-collar-crime  5885 E STAPLETON N DR                  NaN  \n",
       "360351                  larceny       24300 E 75TH AVE                  NaN  \n",
       "360352                  larceny    1605 N FEDERAL BLVD                  NaN  \n",
       "\n",
       "[584 rows x 21 columns]"
      ]
     },
     "execution_count": 31,
     "metadata": {},
     "output_type": "execute_result"
    }
   ],
   "source": [
    "# print all rows with neighbourhood_ID_trim with na\n",
    "crimes[crimes['NEIGHBORHOOD_ID_trim'].isna()]"
   ]
  },
  {
   "cell_type": "code",
   "execution_count": 32,
   "id": "8a1c6947",
   "metadata": {},
   "outputs": [
    {
     "name": "stderr",
     "output_type": "stream",
     "text": [
      "/Users/simranbhamra/opt/anaconda3/lib/python3.7/site-packages/ipykernel_launcher.py:3: FutureWarning: Indexing with multiple keys (implicitly converted to a tuple of keys) will be deprecated, use a list instead.\n",
      "  This is separate from the ipykernel package so we can avoid doing imports until\n"
     ]
    }
   ],
   "source": [
    "# get avg latlon of neighborhood. Not geodesic, but sufficient for approximation.\n",
    "\n",
    "avg_neighborhood_locations = crimes.groupby(['NEIGHBORHOOD_ID_trim'],as_index=False)['GEO_X','GEO_Y'].mean()\n",
    "\n",
    "# calculate haversine distance / great circle distance between each incident location and all other average neighborhood locations\n",
    "# https://en.wikipedia.org/wiki/Haversine_formula\n",
    "# credit: https://stackoverflow.com/questions/29545704/fast-haversine-approximation-python-pandas/29546836#29546836\n",
    "\n",
    "def haversine_np(lon1, lat1, lon2, lat2):\n",
    "    \"\"\"\n",
    "    Calculate the great circle distance between two points\n",
    "    on the earth (specified in decimal degrees)\n",
    "\n",
    "    All args must be of equal length.    \n",
    "\n",
    "    \"\"\"\n",
    "    lon1, lat1, lon2, lat2 = map(np.radians, [lon1, lat1, lon2, lat2])\n",
    "\n",
    "    dlon = lon2 - lon1\n",
    "    dlat = lat2 - lat1\n",
    "\n",
    "    a = np.sin(dlat/2.0)**2 + np.cos(lat1) * np.cos(lat2) * np.sin(dlon/2.0)**2\n",
    "\n",
    "    c = 2 * np.arcsin(np.sqrt(a))\n",
    "    km = 6367 * c\n",
    "    return km\n",
    "\n",
    "\n",
    "dist_df = crimes[crimes['NEIGHBORHOOD_ID_trim'].isna()][['incident_id','GEO_X','GEO_Y']].merge(avg_neighborhood_locations,how='cross')\n",
    "\n",
    "dist_df['dist_km'] = haversine_np(dist_df['GEO_Y_x'],dist_df['GEO_X_x'],dist_df['GEO_Y_y'],dist_df['GEO_X_x'])\n",
    "\n",
    "# get nearest neighborhood for each incident\n",
    "nearest_neighborhoods = dist_df.sort_values(['dist_km'],ascending=True).groupby('incident_id',as_index=False).first().rename(columns={'NEIGHBORHOOD_ID_trim':'nearest_neighborhood','dist_km':'nearest_neighborhood_dist_km'})[['incident_id','nearest_neighborhood','nearest_neighborhood_dist_km']]\n",
    "\n",
    "# merge back in to crimes dataset\n",
    "crimes = crimes.merge(nearest_neighborhoods,on='incident_id',how='left')\n",
    "\n",
    "crimes['nearest_neighborhood'] = np.where(crimes['nearest_neighborhood'].isna(),crimes['NEIGHBORHOOD_ID_trim'],crimes['nearest_neighborhood'])\n",
    "\n",
    "# fill in known neighborhoods w/ a dist of 0\n",
    "crimes['nearest_neighborhood_dist_km'] = np.where(crimes['nearest_neighborhood_dist_km'].isna(),0,crimes['nearest_neighborhood_dist_km'])"
   ]
  },
  {
   "cell_type": "code",
   "execution_count": 33,
   "id": "fe9a7343",
   "metadata": {},
   "outputs": [
    {
     "data": {
      "text/html": [
       "<div>\n",
       "<style scoped>\n",
       "    .dataframe tbody tr th:only-of-type {\n",
       "        vertical-align: middle;\n",
       "    }\n",
       "\n",
       "    .dataframe tbody tr th {\n",
       "        vertical-align: top;\n",
       "    }\n",
       "\n",
       "    .dataframe thead th {\n",
       "        text-align: right;\n",
       "    }\n",
       "</style>\n",
       "<table border=\"1\" class=\"dataframe\">\n",
       "  <thead>\n",
       "    <tr style=\"text-align: right;\">\n",
       "      <th></th>\n",
       "      <th>incident_id</th>\n",
       "      <th>offense_id</th>\n",
       "      <th>OFFENSE_CODE</th>\n",
       "      <th>OFFENSE_CODE_EXTENSION</th>\n",
       "      <th>GEO_X</th>\n",
       "      <th>GEO_Y</th>\n",
       "      <th>GEO_LON</th>\n",
       "      <th>GEO_LAT</th>\n",
       "      <th>DISTRICT_ID</th>\n",
       "      <th>PRECINCT_ID</th>\n",
       "      <th>...</th>\n",
       "      <th>first_occurrence_date_dt</th>\n",
       "      <th>first_occurrence_date_isoformat</th>\n",
       "      <th>reported_date_dt</th>\n",
       "      <th>reported_date_isoformat</th>\n",
       "      <th>OFFENSE_TYPE_ID_trim</th>\n",
       "      <th>OFFENSE_CATEGORY_ID_trim</th>\n",
       "      <th>INCIDENT_STREET</th>\n",
       "      <th>NEIGHBORHOOD_ID_trim</th>\n",
       "      <th>nearest_neighborhood</th>\n",
       "      <th>nearest_neighborhood_dist_km</th>\n",
       "    </tr>\n",
       "  </thead>\n",
       "  <tbody>\n",
       "    <tr>\n",
       "      <th>359405</th>\n",
       "      <td>2022307631</td>\n",
       "      <td>2022307631299900</td>\n",
       "      <td>2999</td>\n",
       "      <td>0</td>\n",
       "      <td>3147195.0</td>\n",
       "      <td>1695029.0</td>\n",
       "      <td>NaN</td>\n",
       "      <td>NaN</td>\n",
       "      <td>NaN</td>\n",
       "      <td>NaN</td>\n",
       "      <td>...</td>\n",
       "      <td>2022-06-17 19:33:00</td>\n",
       "      <td>2022-06-17T19:33:00</td>\n",
       "      <td>2022-06-17 20:06:00</td>\n",
       "      <td>2022-06-17T20:06:00</td>\n",
       "      <td>criminal-mischief-other</td>\n",
       "      <td>public-disorder</td>\n",
       "      <td>857 E COLFAX AVE</td>\n",
       "      <td>NaN</td>\n",
       "      <td>hampden-south</td>\n",
       "      <td>47.158290</td>\n",
       "    </tr>\n",
       "    <tr>\n",
       "      <th>359409</th>\n",
       "      <td>2022308867</td>\n",
       "      <td>2022308867299900</td>\n",
       "      <td>2999</td>\n",
       "      <td>0</td>\n",
       "      <td>3174073.0</td>\n",
       "      <td>1689429.0</td>\n",
       "      <td>NaN</td>\n",
       "      <td>NaN</td>\n",
       "      <td>NaN</td>\n",
       "      <td>NaN</td>\n",
       "      <td>...</td>\n",
       "      <td>2022-06-18 12:44:00</td>\n",
       "      <td>2022-06-18T12:44:00</td>\n",
       "      <td>2022-06-18 14:34:00</td>\n",
       "      <td>2022-06-18T14:34:00</td>\n",
       "      <td>criminal-mischief-other</td>\n",
       "      <td>public-disorder</td>\n",
       "      <td>9100 E LOWRY BLVD</td>\n",
       "      <td>NaN</td>\n",
       "      <td>sloan-lake</td>\n",
       "      <td>73.254474</td>\n",
       "    </tr>\n",
       "    <tr>\n",
       "      <th>359410</th>\n",
       "      <td>2022305932</td>\n",
       "      <td>2022305932299900</td>\n",
       "      <td>2999</td>\n",
       "      <td>0</td>\n",
       "      <td>3142958.0</td>\n",
       "      <td>1672196.0</td>\n",
       "      <td>NaN</td>\n",
       "      <td>NaN</td>\n",
       "      <td>NaN</td>\n",
       "      <td>NaN</td>\n",
       "      <td>...</td>\n",
       "      <td>2022-06-16 23:35:00</td>\n",
       "      <td>2022-06-16T23:35:00</td>\n",
       "      <td>2022-06-16 23:35:00</td>\n",
       "      <td>2022-06-16T23:35:00</td>\n",
       "      <td>criminal-mischief-other</td>\n",
       "      <td>public-disorder</td>\n",
       "      <td>2140 S DELAWARE ST</td>\n",
       "      <td>NaN</td>\n",
       "      <td>northeast-park-hill</td>\n",
       "      <td>157.756212</td>\n",
       "    </tr>\n",
       "    <tr>\n",
       "      <th>359412</th>\n",
       "      <td>2022310449</td>\n",
       "      <td>2022310449299900</td>\n",
       "      <td>2999</td>\n",
       "      <td>0</td>\n",
       "      <td>3184346.0</td>\n",
       "      <td>1712762.0</td>\n",
       "      <td>NaN</td>\n",
       "      <td>NaN</td>\n",
       "      <td>NaN</td>\n",
       "      <td>NaN</td>\n",
       "      <td>...</td>\n",
       "      <td>2022-06-19 09:25:00</td>\n",
       "      <td>2022-06-19T09:25:00</td>\n",
       "      <td>2022-06-19 11:17:00</td>\n",
       "      <td>2022-06-19T11:17:00</td>\n",
       "      <td>criminal-mischief-other</td>\n",
       "      <td>public-disorder</td>\n",
       "      <td>5063 N SCRANTON ST</td>\n",
       "      <td>NaN</td>\n",
       "      <td>cory-merrill</td>\n",
       "      <td>269.985030</td>\n",
       "    </tr>\n",
       "    <tr>\n",
       "      <th>359413</th>\n",
       "      <td>20226011416</td>\n",
       "      <td>20226011416299900</td>\n",
       "      <td>2999</td>\n",
       "      <td>0</td>\n",
       "      <td>3209045.0</td>\n",
       "      <td>1711845.0</td>\n",
       "      <td>NaN</td>\n",
       "      <td>NaN</td>\n",
       "      <td>NaN</td>\n",
       "      <td>NaN</td>\n",
       "      <td>...</td>\n",
       "      <td>2022-06-18 20:00:00</td>\n",
       "      <td>2022-06-18T20:00:00</td>\n",
       "      <td>2022-06-19 18:48:00</td>\n",
       "      <td>2022-06-19T18:48:00</td>\n",
       "      <td>criminal-mischief-other</td>\n",
       "      <td>public-disorder</td>\n",
       "      <td>4853 N HALIFAX CT</td>\n",
       "      <td>NaN</td>\n",
       "      <td>university</td>\n",
       "      <td>365.588283</td>\n",
       "    </tr>\n",
       "    <tr>\n",
       "      <th>...</th>\n",
       "      <td>...</td>\n",
       "      <td>...</td>\n",
       "      <td>...</td>\n",
       "      <td>...</td>\n",
       "      <td>...</td>\n",
       "      <td>...</td>\n",
       "      <td>...</td>\n",
       "      <td>...</td>\n",
       "      <td>...</td>\n",
       "      <td>...</td>\n",
       "      <td>...</td>\n",
       "      <td>...</td>\n",
       "      <td>...</td>\n",
       "      <td>...</td>\n",
       "      <td>...</td>\n",
       "      <td>...</td>\n",
       "      <td>...</td>\n",
       "      <td>...</td>\n",
       "      <td>...</td>\n",
       "      <td>...</td>\n",
       "      <td>...</td>\n",
       "    </tr>\n",
       "    <tr>\n",
       "      <th>360347</th>\n",
       "      <td>20226011252</td>\n",
       "      <td>20226011252260900</td>\n",
       "      <td>2609</td>\n",
       "      <td>0</td>\n",
       "      <td>3130968.0</td>\n",
       "      <td>1686400.0</td>\n",
       "      <td>NaN</td>\n",
       "      <td>NaN</td>\n",
       "      <td>NaN</td>\n",
       "      <td>NaN</td>\n",
       "      <td>...</td>\n",
       "      <td>2022-06-11 12:45:00</td>\n",
       "      <td>2022-06-11T12:45:00</td>\n",
       "      <td>2022-06-16 10:50:00</td>\n",
       "      <td>2022-06-16T10:50:00</td>\n",
       "      <td>fraud-by-use-of-computer</td>\n",
       "      <td>white-collar-crime</td>\n",
       "      <td>20 N LOWELL BLVD</td>\n",
       "      <td>NaN</td>\n",
       "      <td>valverde</td>\n",
       "      <td>198.819651</td>\n",
       "    </tr>\n",
       "    <tr>\n",
       "      <th>360348</th>\n",
       "      <td>2022300759</td>\n",
       "      <td>2022300759260900</td>\n",
       "      <td>2609</td>\n",
       "      <td>0</td>\n",
       "      <td>3140838.0</td>\n",
       "      <td>1694464.0</td>\n",
       "      <td>NaN</td>\n",
       "      <td>NaN</td>\n",
       "      <td>NaN</td>\n",
       "      <td>NaN</td>\n",
       "      <td>...</td>\n",
       "      <td>2022-05-31 00:00:00</td>\n",
       "      <td>2022-05-31T00:00:00</td>\n",
       "      <td>2022-06-14 11:00:00</td>\n",
       "      <td>2022-06-14T11:00:00</td>\n",
       "      <td>fraud-by-use-of-computer</td>\n",
       "      <td>white-collar-crime</td>\n",
       "      <td>901 W 14TH AVE</td>\n",
       "      <td>NaN</td>\n",
       "      <td>sloan-lake</td>\n",
       "      <td>426.267842</td>\n",
       "    </tr>\n",
       "    <tr>\n",
       "      <th>360349</th>\n",
       "      <td>2022306766</td>\n",
       "      <td>2022306766260900</td>\n",
       "      <td>2609</td>\n",
       "      <td>0</td>\n",
       "      <td>3163327.0</td>\n",
       "      <td>1709344.0</td>\n",
       "      <td>NaN</td>\n",
       "      <td>NaN</td>\n",
       "      <td>NaN</td>\n",
       "      <td>NaN</td>\n",
       "      <td>...</td>\n",
       "      <td>2022-04-28 08:00:00</td>\n",
       "      <td>2022-04-28T08:00:00</td>\n",
       "      <td>2022-06-17 13:27:00</td>\n",
       "      <td>2022-06-17T13:27:00</td>\n",
       "      <td>fraud-by-use-of-computer</td>\n",
       "      <td>white-collar-crime</td>\n",
       "      <td>5885 E STAPLETON N DR</td>\n",
       "      <td>NaN</td>\n",
       "      <td>globeville</td>\n",
       "      <td>162.040917</td>\n",
       "    </tr>\n",
       "    <tr>\n",
       "      <th>360351</th>\n",
       "      <td>20228026207</td>\n",
       "      <td>20228026207269903</td>\n",
       "      <td>2699</td>\n",
       "      <td>3</td>\n",
       "      <td>3223441.0</td>\n",
       "      <td>1728516.0</td>\n",
       "      <td>NaN</td>\n",
       "      <td>NaN</td>\n",
       "      <td>NaN</td>\n",
       "      <td>NaN</td>\n",
       "      <td>...</td>\n",
       "      <td>2022-06-18 06:07:00</td>\n",
       "      <td>2022-06-18T06:07:00</td>\n",
       "      <td>2022-06-18 07:32:00</td>\n",
       "      <td>2022-06-18T07:32:00</td>\n",
       "      <td>theft-of-services</td>\n",
       "      <td>larceny</td>\n",
       "      <td>24300 E 75TH AVE</td>\n",
       "      <td>NaN</td>\n",
       "      <td>valverde</td>\n",
       "      <td>147.331810</td>\n",
       "    </tr>\n",
       "    <tr>\n",
       "      <th>360352</th>\n",
       "      <td>2022306468</td>\n",
       "      <td>2022306468269903</td>\n",
       "      <td>2699</td>\n",
       "      <td>3</td>\n",
       "      <td>3133373.0</td>\n",
       "      <td>1695856.0</td>\n",
       "      <td>NaN</td>\n",
       "      <td>NaN</td>\n",
       "      <td>NaN</td>\n",
       "      <td>NaN</td>\n",
       "      <td>...</td>\n",
       "      <td>2022-06-17 08:00:00</td>\n",
       "      <td>2022-06-17T08:00:00</td>\n",
       "      <td>2022-06-17 09:34:00</td>\n",
       "      <td>2022-06-17T09:34:00</td>\n",
       "      <td>theft-of-services</td>\n",
       "      <td>larceny</td>\n",
       "      <td>1605 N FEDERAL BLVD</td>\n",
       "      <td>NaN</td>\n",
       "      <td>overland</td>\n",
       "      <td>25.535293</td>\n",
       "    </tr>\n",
       "  </tbody>\n",
       "</table>\n",
       "<p>582 rows × 23 columns</p>\n",
       "</div>"
      ],
      "text/plain": [
       "        incident_id         offense_id  OFFENSE_CODE  OFFENSE_CODE_EXTENSION  \\\n",
       "359405   2022307631   2022307631299900          2999                       0   \n",
       "359409   2022308867   2022308867299900          2999                       0   \n",
       "359410   2022305932   2022305932299900          2999                       0   \n",
       "359412   2022310449   2022310449299900          2999                       0   \n",
       "359413  20226011416  20226011416299900          2999                       0   \n",
       "...             ...                ...           ...                     ...   \n",
       "360347  20226011252  20226011252260900          2609                       0   \n",
       "360348   2022300759   2022300759260900          2609                       0   \n",
       "360349   2022306766   2022306766260900          2609                       0   \n",
       "360351  20228026207  20228026207269903          2699                       3   \n",
       "360352   2022306468   2022306468269903          2699                       3   \n",
       "\n",
       "            GEO_X      GEO_Y  GEO_LON  GEO_LAT  DISTRICT_ID  PRECINCT_ID  ...  \\\n",
       "359405  3147195.0  1695029.0      NaN      NaN          NaN          NaN  ...   \n",
       "359409  3174073.0  1689429.0      NaN      NaN          NaN          NaN  ...   \n",
       "359410  3142958.0  1672196.0      NaN      NaN          NaN          NaN  ...   \n",
       "359412  3184346.0  1712762.0      NaN      NaN          NaN          NaN  ...   \n",
       "359413  3209045.0  1711845.0      NaN      NaN          NaN          NaN  ...   \n",
       "...           ...        ...      ...      ...          ...          ...  ...   \n",
       "360347  3130968.0  1686400.0      NaN      NaN          NaN          NaN  ...   \n",
       "360348  3140838.0  1694464.0      NaN      NaN          NaN          NaN  ...   \n",
       "360349  3163327.0  1709344.0      NaN      NaN          NaN          NaN  ...   \n",
       "360351  3223441.0  1728516.0      NaN      NaN          NaN          NaN  ...   \n",
       "360352  3133373.0  1695856.0      NaN      NaN          NaN          NaN  ...   \n",
       "\n",
       "        first_occurrence_date_dt  first_occurrence_date_isoformat  \\\n",
       "359405       2022-06-17 19:33:00              2022-06-17T19:33:00   \n",
       "359409       2022-06-18 12:44:00              2022-06-18T12:44:00   \n",
       "359410       2022-06-16 23:35:00              2022-06-16T23:35:00   \n",
       "359412       2022-06-19 09:25:00              2022-06-19T09:25:00   \n",
       "359413       2022-06-18 20:00:00              2022-06-18T20:00:00   \n",
       "...                          ...                              ...   \n",
       "360347       2022-06-11 12:45:00              2022-06-11T12:45:00   \n",
       "360348       2022-05-31 00:00:00              2022-05-31T00:00:00   \n",
       "360349       2022-04-28 08:00:00              2022-04-28T08:00:00   \n",
       "360351       2022-06-18 06:07:00              2022-06-18T06:07:00   \n",
       "360352       2022-06-17 08:00:00              2022-06-17T08:00:00   \n",
       "\n",
       "          reported_date_dt reported_date_isoformat      OFFENSE_TYPE_ID_trim  \\\n",
       "359405 2022-06-17 20:06:00     2022-06-17T20:06:00   criminal-mischief-other   \n",
       "359409 2022-06-18 14:34:00     2022-06-18T14:34:00   criminal-mischief-other   \n",
       "359410 2022-06-16 23:35:00     2022-06-16T23:35:00   criminal-mischief-other   \n",
       "359412 2022-06-19 11:17:00     2022-06-19T11:17:00   criminal-mischief-other   \n",
       "359413 2022-06-19 18:48:00     2022-06-19T18:48:00   criminal-mischief-other   \n",
       "...                    ...                     ...                       ...   \n",
       "360347 2022-06-16 10:50:00     2022-06-16T10:50:00  fraud-by-use-of-computer   \n",
       "360348 2022-06-14 11:00:00     2022-06-14T11:00:00  fraud-by-use-of-computer   \n",
       "360349 2022-06-17 13:27:00     2022-06-17T13:27:00  fraud-by-use-of-computer   \n",
       "360351 2022-06-18 07:32:00     2022-06-18T07:32:00         theft-of-services   \n",
       "360352 2022-06-17 09:34:00     2022-06-17T09:34:00         theft-of-services   \n",
       "\n",
       "       OFFENSE_CATEGORY_ID_trim        INCIDENT_STREET NEIGHBORHOOD_ID_trim  \\\n",
       "359405          public-disorder       857 E COLFAX AVE                  NaN   \n",
       "359409          public-disorder      9100 E LOWRY BLVD                  NaN   \n",
       "359410          public-disorder     2140 S DELAWARE ST                  NaN   \n",
       "359412          public-disorder     5063 N SCRANTON ST                  NaN   \n",
       "359413          public-disorder      4853 N HALIFAX CT                  NaN   \n",
       "...                         ...                    ...                  ...   \n",
       "360347       white-collar-crime       20 N LOWELL BLVD                  NaN   \n",
       "360348       white-collar-crime         901 W 14TH AVE                  NaN   \n",
       "360349       white-collar-crime  5885 E STAPLETON N DR                  NaN   \n",
       "360351                  larceny       24300 E 75TH AVE                  NaN   \n",
       "360352                  larceny    1605 N FEDERAL BLVD                  NaN   \n",
       "\n",
       "       nearest_neighborhood nearest_neighborhood_dist_km  \n",
       "359405        hampden-south                    47.158290  \n",
       "359409           sloan-lake                    73.254474  \n",
       "359410  northeast-park-hill                   157.756212  \n",
       "359412         cory-merrill                   269.985030  \n",
       "359413           university                   365.588283  \n",
       "...                     ...                          ...  \n",
       "360347             valverde                   198.819651  \n",
       "360348           sloan-lake                   426.267842  \n",
       "360349           globeville                   162.040917  \n",
       "360351             valverde                   147.331810  \n",
       "360352             overland                    25.535293  \n",
       "\n",
       "[582 rows x 23 columns]"
      ]
     },
     "execution_count": 33,
     "metadata": {},
     "output_type": "execute_result"
    }
   ],
   "source": [
    "crimes[crimes['nearest_neighborhood_dist_km']>0]"
   ]
  },
  {
   "cell_type": "markdown",
   "id": "b1efa16a",
   "metadata": {},
   "source": [
    "## Step 5 \n",
    "&nbsp;&nbsp;&nbsp;&nbsp;&nbsp;&nbsp; With sufficiently cleaned crimes data the offense data frame can now be joined, note we did not need to apply any cleaning to the offense data as it came already cleaned. The tables are joined to the OFFENSE_CODE and OFFENSE_CODE_EXTENSION using a left join into a new table called dv_crime_data. To ensure there are no duplicates when joining the data we check that IS_CRIME_x', 'IS_TRAFFIC_x', is equal to 'IS_CRIME_y','IS_TRAFFIC_y', the 'X' version coming from the crimes data and 'Y' version from offense codes.\n"
   ]
  },
  {
   "cell_type": "code",
   "execution_count": 34,
   "id": "18c8dd02",
   "metadata": {},
   "outputs": [],
   "source": [
    "# join table\n",
    "dv_crime_data = crimes.merge(offense_codes, on=['OFFENSE_CODE','OFFENSE_CODE_EXTENSION'],how='left')"
   ]
  },
  {
   "cell_type": "code",
   "execution_count": 35,
   "id": "1435114f",
   "metadata": {},
   "outputs": [],
   "source": [
    "# check for duplicates\n",
    "duplicate_list = ['IS_CRIME', 'IS_TRAFFIC']\n",
    "\n",
    "for duplicate in duplicate_list:\n",
    "    pd.testing.assert_series_equal(dv_crime_data[duplicate+'_x'],dv_crime_data[duplicate+'_y'],check_names=False)"
   ]
  },
  {
   "cell_type": "markdown",
   "id": "5a0c917e",
   "metadata": {},
   "source": [
    "## Step 6 \n",
    "&nbsp;&nbsp;&nbsp;&nbsp;&nbsp;&nbsp; With the joined tables there are more redundant columns to drop. After dropping the columns, the column names are standardized. Additionally, the columns are renamed to give more accurate descriptions, and remove readability.\n",
    "\n",
    "### Dropped columns\n",
    "\n",
    "| Column Name | Reason Dropped |\n",
    "| :---       |    :---    |  \n",
    "| GEO_X      | GEO_LAT and GEO_LON will be used for location so this is not needed  | \n",
    "| GEO_Y      | GEO_LAT and GEO_LON will be used for location so this is not needed  | \n",
    "|DISTRICT_ID | not relevant to analytic goal | \n",
    "| nearest_neighborhood_dist_km | can be disregarded  after we have the nearest neighborhoods |\n",
    "| OBJECTID | count from offense table |\n",
    "| OFFENSE_TYPE_ID | the name will be used instead of the ID | \n",
    "| OFFENSE_CATEGORY_ID | the name will be used instead of the ID | \n",
    "| IS_CRIME_y | duplicate of IS_CRIME_x from crimes table|\n",
    "| IS_TRAFFIC_y | duplicate of IS_TRAFFIC_x from crimes table|\n",
    "|first_occurrence_date_dt| ISO date format will be used so datetime format can be dropped |\n",
    "| reported_date_dt |ISO date format will be used so datetime format can be dropped |\n",
    "| OFFENSE_TYPE_ID_trim |the name will be used instead of the ID |\n",
    "| OFFENSE_CATEGORY_ID_trim |the name will be used instead of the ID |\n",
    "\n",
    "\n"
   ]
  },
  {
   "cell_type": "code",
   "execution_count": 36,
   "id": "2df09fca",
   "metadata": {},
   "outputs": [],
   "source": [
    "columns_to_drop = [\n",
    "    'GEO_X',\n",
    "    'GEO_Y', 'DISTRICT_ID',\n",
    "    'nearest_neighborhood_dist_km',\n",
    "    'OBJECTID',\n",
    "    'OFFENSE_TYPE_ID',\n",
    "    'OFFENSE_CATEGORY_ID',\n",
    "    'IS_CRIME_y',\n",
    "    'IS_TRAFFIC_y',\n",
    "    'first_occurrence_date_dt',\n",
    "    'reported_date_dt',\n",
    "    'OFFENSE_TYPE_ID_trim',\n",
    "    'OFFENSE_CATEGORY_ID_trim'\n",
    "]\n",
    "dv_crime_data = dv_crime_data.drop(columns = columns_to_drop)"
   ]
  },
  {
   "cell_type": "code",
   "execution_count": 37,
   "id": "5a5fb0a9",
   "metadata": {},
   "outputs": [
    {
     "data": {
      "text/plain": [
       "['incident_id',\n",
       " 'offense_id',\n",
       " 'OFFENSE_CODE',\n",
       " 'OFFENSE_CODE_EXTENSION',\n",
       " 'GEO_LON',\n",
       " 'GEO_LAT',\n",
       " 'PRECINCT_ID',\n",
       " 'IS_CRIME_x',\n",
       " 'IS_TRAFFIC_x',\n",
       " 'VICTIM_COUNT',\n",
       " 'first_occurrence_date_isoformat',\n",
       " 'reported_date_isoformat',\n",
       " 'INCIDENT_STREET',\n",
       " 'NEIGHBORHOOD_ID_trim',\n",
       " 'nearest_neighborhood',\n",
       " 'OFFENSE_TYPE_NAME',\n",
       " 'OFFENSE_CATEGORY_NAME']"
      ]
     },
     "execution_count": 37,
     "metadata": {},
     "output_type": "execute_result"
    }
   ],
   "source": [
    "# current columns\n",
    "list(dv_crime_data)\n"
   ]
  },
  {
   "cell_type": "code",
   "execution_count": 38,
   "id": "b61c75ba",
   "metadata": {},
   "outputs": [],
   "source": [
    "# convert all column names to lowercase \n",
    "dv_crime_data.columns = [x.lower() for x in dv_crime_data.columns]"
   ]
  },
  {
   "cell_type": "code",
   "execution_count": 39,
   "id": "db3f7bd0",
   "metadata": {},
   "outputs": [
    {
     "data": {
      "text/plain": [
       "['incident_id',\n",
       " 'offense_id',\n",
       " 'offense_code',\n",
       " 'offense_code_extension',\n",
       " 'geo_lon',\n",
       " 'geo_lat',\n",
       " 'precinct_id',\n",
       " 'is_crime_x',\n",
       " 'is_traffic_x',\n",
       " 'victim_count',\n",
       " 'first_occurrence_date_isoformat',\n",
       " 'reported_date_isoformat',\n",
       " 'incident_street',\n",
       " 'neighborhood_id_trim',\n",
       " 'nearest_neighborhood',\n",
       " 'offense_type_name',\n",
       " 'offense_category_name']"
      ]
     },
     "execution_count": 39,
     "metadata": {},
     "output_type": "execute_result"
    }
   ],
   "source": [
    "# lowercase columns\n",
    "list(dv_crime_data)"
   ]
  },
  {
   "cell_type": "code",
   "execution_count": 40,
   "id": "56838b94",
   "metadata": {},
   "outputs": [],
   "source": [
    "# columns renamed to give more accurate descriptions \n",
    "dv_crime_data.rename(columns = {\n",
    "    'is_crime_x':'is_crime',\n",
    "    'is_traffic_x':'is_traffic',\n",
    "    'first_occurrence_date_isoformat':'first_occurrence_date',\n",
    "    'reported_date_isoformat':'reported_date',\n",
    "    'neighborhood_id_trim':'neighborhood_id'\n",
    "}, inplace = True)"
   ]
  },
  {
   "cell_type": "code",
   "execution_count": 41,
   "id": "23fec7ab",
   "metadata": {},
   "outputs": [
    {
     "data": {
      "text/plain": [
       "['incident_id',\n",
       " 'offense_id',\n",
       " 'offense_code',\n",
       " 'offense_code_extension',\n",
       " 'geo_lon',\n",
       " 'geo_lat',\n",
       " 'precinct_id',\n",
       " 'is_crime',\n",
       " 'is_traffic',\n",
       " 'victim_count',\n",
       " 'first_occurrence_date',\n",
       " 'reported_date',\n",
       " 'incident_street',\n",
       " 'neighborhood_id',\n",
       " 'nearest_neighborhood',\n",
       " 'offense_type_name',\n",
       " 'offense_category_name']"
      ]
     },
     "execution_count": 41,
     "metadata": {},
     "output_type": "execute_result"
    }
   ],
   "source": [
    "# final columns\n",
    "list(dv_crime_data)\n"
   ]
  },
  {
   "cell_type": "markdown",
   "id": "55fd086c",
   "metadata": {},
   "source": [
    "## Step 7 \n",
    "&nbsp;&nbsp;&nbsp;&nbsp;&nbsp;&nbsp; As planned for phase 1, integrity constraints are checked. First, we check that there are no primary key violations, meaning that there will be no duplicates. Here incident_id and offense_id are used as the primary key, since a single incident can have multiple offenses occur.\n"
   ]
  },
  {
   "cell_type": "code",
   "execution_count": 42,
   "id": "bf8541ae",
   "metadata": {},
   "outputs": [
    {
     "data": {
      "text/html": [
       "<div>\n",
       "<style scoped>\n",
       "    .dataframe tbody tr th:only-of-type {\n",
       "        vertical-align: middle;\n",
       "    }\n",
       "\n",
       "    .dataframe tbody tr th {\n",
       "        vertical-align: top;\n",
       "    }\n",
       "\n",
       "    .dataframe thead th {\n",
       "        text-align: right;\n",
       "    }\n",
       "</style>\n",
       "<table border=\"1\" class=\"dataframe\">\n",
       "  <thead>\n",
       "    <tr style=\"text-align: right;\">\n",
       "      <th></th>\n",
       "      <th>incident_id</th>\n",
       "      <th>offense_id</th>\n",
       "      <th>offense_code</th>\n",
       "      <th>offense_code_extension</th>\n",
       "      <th>geo_lon</th>\n",
       "      <th>geo_lat</th>\n",
       "      <th>precinct_id</th>\n",
       "      <th>is_crime</th>\n",
       "      <th>is_traffic</th>\n",
       "      <th>victim_count</th>\n",
       "      <th>first_occurrence_date</th>\n",
       "      <th>reported_date</th>\n",
       "      <th>incident_street</th>\n",
       "      <th>neighborhood_id</th>\n",
       "      <th>nearest_neighborhood</th>\n",
       "      <th>offense_type_name</th>\n",
       "      <th>offense_category_name</th>\n",
       "    </tr>\n",
       "  </thead>\n",
       "  <tbody>\n",
       "  </tbody>\n",
       "</table>\n",
       "</div>"
      ],
      "text/plain": [
       "Empty DataFrame\n",
       "Columns: [incident_id, offense_id, offense_code, offense_code_extension, geo_lon, geo_lat, precinct_id, is_crime, is_traffic, victim_count, first_occurrence_date, reported_date, incident_street, neighborhood_id, nearest_neighborhood, offense_type_name, offense_category_name]\n",
       "Index: []"
      ]
     },
     "execution_count": 42,
     "metadata": {},
     "output_type": "execute_result"
    }
   ],
   "source": [
    "# checking primary key violations \n",
    "primary_key_violations = dv_crime_data[dv_crime_data.duplicated(subset=['incident_id','offense_id'], keep=False)]\n",
    "primary_key_violations"
   ]
  },
  {
   "cell_type": "markdown",
   "id": "a42e2485",
   "metadata": {},
   "source": [
    "&nbsp;&nbsp;&nbsp;&nbsp;&nbsp;&nbsp; With no primary key violations, the next violation to check is not null. We do not need to check for unique constraints as for the remainder of the columns values can be repeated, for example crimes can happen on the same day, or in the same neighborhood."
   ]
  },
  {
   "cell_type": "code",
   "execution_count": 43,
   "id": "26ddf2f6",
   "metadata": {},
   "outputs": [
    {
     "data": {
      "text/html": [
       "<div>\n",
       "<style scoped>\n",
       "    .dataframe tbody tr th:only-of-type {\n",
       "        vertical-align: middle;\n",
       "    }\n",
       "\n",
       "    .dataframe tbody tr th {\n",
       "        vertical-align: top;\n",
       "    }\n",
       "\n",
       "    .dataframe thead th {\n",
       "        text-align: right;\n",
       "    }\n",
       "</style>\n",
       "<table border=\"1\" class=\"dataframe\">\n",
       "  <thead>\n",
       "    <tr style=\"text-align: right;\">\n",
       "      <th></th>\n",
       "      <th>incident_id</th>\n",
       "      <th>offense_id</th>\n",
       "      <th>offense_code</th>\n",
       "      <th>offense_code_extension</th>\n",
       "      <th>geo_lon</th>\n",
       "      <th>geo_lat</th>\n",
       "      <th>precinct_id</th>\n",
       "      <th>is_crime</th>\n",
       "      <th>is_traffic</th>\n",
       "      <th>victim_count</th>\n",
       "      <th>first_occurrence_date</th>\n",
       "      <th>reported_date</th>\n",
       "      <th>incident_street</th>\n",
       "      <th>neighborhood_id</th>\n",
       "      <th>nearest_neighborhood</th>\n",
       "      <th>offense_type_name</th>\n",
       "      <th>offense_category_name</th>\n",
       "    </tr>\n",
       "  </thead>\n",
       "  <tbody>\n",
       "    <tr>\n",
       "      <th>93</th>\n",
       "      <td>20222312</td>\n",
       "      <td>20222312360101</td>\n",
       "      <td>3601</td>\n",
       "      <td>1</td>\n",
       "      <td>NaN</td>\n",
       "      <td>NaN</td>\n",
       "      <td>311.0</td>\n",
       "      <td>1</td>\n",
       "      <td>0</td>\n",
       "      <td>1</td>\n",
       "      <td>2022-01-02T13:00:00</td>\n",
       "      <td>2022-01-02T15:00:00</td>\n",
       "      <td>NaN</td>\n",
       "      <td>speer</td>\n",
       "      <td>speer</td>\n",
       "      <td>Fondling of an adult</td>\n",
       "      <td>Sexual Assault</td>\n",
       "    </tr>\n",
       "    <tr>\n",
       "      <th>163</th>\n",
       "      <td>20226052</td>\n",
       "      <td>20226052110200</td>\n",
       "      <td>1102</td>\n",
       "      <td>0</td>\n",
       "      <td>NaN</td>\n",
       "      <td>NaN</td>\n",
       "      <td>221.0</td>\n",
       "      <td>1</td>\n",
       "      <td>0</td>\n",
       "      <td>1</td>\n",
       "      <td>2022-01-03T12:00:00</td>\n",
       "      <td>2022-01-05T03:53:00</td>\n",
       "      <td>NaN</td>\n",
       "      <td>northeast-park-hill</td>\n",
       "      <td>northeast-park-hill</td>\n",
       "      <td>Rape</td>\n",
       "      <td>Sexual Assault</td>\n",
       "    </tr>\n",
       "    <tr>\n",
       "      <th>164</th>\n",
       "      <td>20229009</td>\n",
       "      <td>20229009110900</td>\n",
       "      <td>1109</td>\n",
       "      <td>0</td>\n",
       "      <td>NaN</td>\n",
       "      <td>NaN</td>\n",
       "      <td>323.0</td>\n",
       "      <td>1</td>\n",
       "      <td>0</td>\n",
       "      <td>1</td>\n",
       "      <td>2022-01-06T20:30:00</td>\n",
       "      <td>2022-01-06T20:40:00</td>\n",
       "      <td>NaN</td>\n",
       "      <td>hampden</td>\n",
       "      <td>hampden</td>\n",
       "      <td>Unlawful sexual contact</td>\n",
       "      <td>Sexual Assault</td>\n",
       "    </tr>\n",
       "    <tr>\n",
       "      <th>51680</th>\n",
       "      <td>2020129743</td>\n",
       "      <td>2020129743360101</td>\n",
       "      <td>3601</td>\n",
       "      <td>1</td>\n",
       "      <td>NaN</td>\n",
       "      <td>NaN</td>\n",
       "      <td>323.0</td>\n",
       "      <td>1</td>\n",
       "      <td>0</td>\n",
       "      <td>1</td>\n",
       "      <td>2020-02-28T16:00:00</td>\n",
       "      <td>2020-02-28T20:13:00</td>\n",
       "      <td>NaN</td>\n",
       "      <td>hampden</td>\n",
       "      <td>hampden</td>\n",
       "      <td>Fondling of an adult</td>\n",
       "      <td>Sexual Assault</td>\n",
       "    </tr>\n",
       "    <tr>\n",
       "      <th>51681</th>\n",
       "      <td>2018553175</td>\n",
       "      <td>2018553175360101</td>\n",
       "      <td>3601</td>\n",
       "      <td>1</td>\n",
       "      <td>NaN</td>\n",
       "      <td>NaN</td>\n",
       "      <td>511.0</td>\n",
       "      <td>1</td>\n",
       "      <td>0</td>\n",
       "      <td>1</td>\n",
       "      <td>2018-08-14T11:35:00</td>\n",
       "      <td>2018-08-14T12:08:00</td>\n",
       "      <td>NaN</td>\n",
       "      <td>central-park</td>\n",
       "      <td>central-park</td>\n",
       "      <td>Fondling of an adult</td>\n",
       "      <td>Sexual Assault</td>\n",
       "    </tr>\n",
       "    <tr>\n",
       "      <th>...</th>\n",
       "      <td>...</td>\n",
       "      <td>...</td>\n",
       "      <td>...</td>\n",
       "      <td>...</td>\n",
       "      <td>...</td>\n",
       "      <td>...</td>\n",
       "      <td>...</td>\n",
       "      <td>...</td>\n",
       "      <td>...</td>\n",
       "      <td>...</td>\n",
       "      <td>...</td>\n",
       "      <td>...</td>\n",
       "      <td>...</td>\n",
       "      <td>...</td>\n",
       "      <td>...</td>\n",
       "      <td>...</td>\n",
       "      <td>...</td>\n",
       "    </tr>\n",
       "    <tr>\n",
       "      <th>374256</th>\n",
       "      <td>20205002865</td>\n",
       "      <td>20205002865119901</td>\n",
       "      <td>1199</td>\n",
       "      <td>1</td>\n",
       "      <td>NaN</td>\n",
       "      <td>NaN</td>\n",
       "      <td>423.0</td>\n",
       "      <td>1</td>\n",
       "      <td>0</td>\n",
       "      <td>1</td>\n",
       "      <td>2020-08-04T06:35:00</td>\n",
       "      <td>2020-08-04T06:35:00</td>\n",
       "      <td>NaN</td>\n",
       "      <td>marston</td>\n",
       "      <td>marston</td>\n",
       "      <td>Sexual assault w/object by a person in a posit...</td>\n",
       "      <td>Sexual Assault</td>\n",
       "    </tr>\n",
       "    <tr>\n",
       "      <th>376629</th>\n",
       "      <td>2022330990</td>\n",
       "      <td>2022330990360101</td>\n",
       "      <td>3601</td>\n",
       "      <td>1</td>\n",
       "      <td>NaN</td>\n",
       "      <td>NaN</td>\n",
       "      <td>311.0</td>\n",
       "      <td>1</td>\n",
       "      <td>0</td>\n",
       "      <td>1</td>\n",
       "      <td>2022-06-27T18:00:00</td>\n",
       "      <td>2022-06-30T17:14:00</td>\n",
       "      <td>NaN</td>\n",
       "      <td>speer</td>\n",
       "      <td>speer</td>\n",
       "      <td>Fondling of an adult</td>\n",
       "      <td>Sexual Assault</td>\n",
       "    </tr>\n",
       "    <tr>\n",
       "      <th>376646</th>\n",
       "      <td>2022329687</td>\n",
       "      <td>2022329687110200</td>\n",
       "      <td>1102</td>\n",
       "      <td>0</td>\n",
       "      <td>NaN</td>\n",
       "      <td>NaN</td>\n",
       "      <td>222.0</td>\n",
       "      <td>1</td>\n",
       "      <td>0</td>\n",
       "      <td>1</td>\n",
       "      <td>2022-05-20T00:00:00</td>\n",
       "      <td>2022-06-29T19:39:00</td>\n",
       "      <td>NaN</td>\n",
       "      <td>hale</td>\n",
       "      <td>hale</td>\n",
       "      <td>Rape</td>\n",
       "      <td>Sexual Assault</td>\n",
       "    </tr>\n",
       "    <tr>\n",
       "      <th>376647</th>\n",
       "      <td>2022330901</td>\n",
       "      <td>2022330901110200</td>\n",
       "      <td>1102</td>\n",
       "      <td>0</td>\n",
       "      <td>NaN</td>\n",
       "      <td>NaN</td>\n",
       "      <td>423.0</td>\n",
       "      <td>1</td>\n",
       "      <td>0</td>\n",
       "      <td>1</td>\n",
       "      <td>2022-06-26T20:00:00</td>\n",
       "      <td>2022-06-30T16:20:00</td>\n",
       "      <td>NaN</td>\n",
       "      <td>marston</td>\n",
       "      <td>marston</td>\n",
       "      <td>Rape</td>\n",
       "      <td>Sexual Assault</td>\n",
       "    </tr>\n",
       "    <tr>\n",
       "      <th>376648</th>\n",
       "      <td>2022329017</td>\n",
       "      <td>2022329017110200</td>\n",
       "      <td>1102</td>\n",
       "      <td>0</td>\n",
       "      <td>NaN</td>\n",
       "      <td>NaN</td>\n",
       "      <td>423.0</td>\n",
       "      <td>1</td>\n",
       "      <td>0</td>\n",
       "      <td>1</td>\n",
       "      <td>2022-01-12T01:00:00</td>\n",
       "      <td>2022-01-14T15:00:00</td>\n",
       "      <td>NaN</td>\n",
       "      <td>marston</td>\n",
       "      <td>marston</td>\n",
       "      <td>Rape</td>\n",
       "      <td>Sexual Assault</td>\n",
       "    </tr>\n",
       "  </tbody>\n",
       "</table>\n",
       "<p>5849 rows × 17 columns</p>\n",
       "</div>"
      ],
      "text/plain": [
       "        incident_id         offense_id  offense_code  offense_code_extension  \\\n",
       "93         20222312     20222312360101          3601                       1   \n",
       "163        20226052     20226052110200          1102                       0   \n",
       "164        20229009     20229009110900          1109                       0   \n",
       "51680    2020129743   2020129743360101          3601                       1   \n",
       "51681    2018553175   2018553175360101          3601                       1   \n",
       "...             ...                ...           ...                     ...   \n",
       "374256  20205002865  20205002865119901          1199                       1   \n",
       "376629   2022330990   2022330990360101          3601                       1   \n",
       "376646   2022329687   2022329687110200          1102                       0   \n",
       "376647   2022330901   2022330901110200          1102                       0   \n",
       "376648   2022329017   2022329017110200          1102                       0   \n",
       "\n",
       "        geo_lon  geo_lat  precinct_id  is_crime  is_traffic  victim_count  \\\n",
       "93          NaN      NaN        311.0         1           0             1   \n",
       "163         NaN      NaN        221.0         1           0             1   \n",
       "164         NaN      NaN        323.0         1           0             1   \n",
       "51680       NaN      NaN        323.0         1           0             1   \n",
       "51681       NaN      NaN        511.0         1           0             1   \n",
       "...         ...      ...          ...       ...         ...           ...   \n",
       "374256      NaN      NaN        423.0         1           0             1   \n",
       "376629      NaN      NaN        311.0         1           0             1   \n",
       "376646      NaN      NaN        222.0         1           0             1   \n",
       "376647      NaN      NaN        423.0         1           0             1   \n",
       "376648      NaN      NaN        423.0         1           0             1   \n",
       "\n",
       "       first_occurrence_date        reported_date incident_street  \\\n",
       "93       2022-01-02T13:00:00  2022-01-02T15:00:00             NaN   \n",
       "163      2022-01-03T12:00:00  2022-01-05T03:53:00             NaN   \n",
       "164      2022-01-06T20:30:00  2022-01-06T20:40:00             NaN   \n",
       "51680    2020-02-28T16:00:00  2020-02-28T20:13:00             NaN   \n",
       "51681    2018-08-14T11:35:00  2018-08-14T12:08:00             NaN   \n",
       "...                      ...                  ...             ...   \n",
       "374256   2020-08-04T06:35:00  2020-08-04T06:35:00             NaN   \n",
       "376629   2022-06-27T18:00:00  2022-06-30T17:14:00             NaN   \n",
       "376646   2022-05-20T00:00:00  2022-06-29T19:39:00             NaN   \n",
       "376647   2022-06-26T20:00:00  2022-06-30T16:20:00             NaN   \n",
       "376648   2022-01-12T01:00:00  2022-01-14T15:00:00             NaN   \n",
       "\n",
       "            neighborhood_id nearest_neighborhood  \\\n",
       "93                    speer                speer   \n",
       "163     northeast-park-hill  northeast-park-hill   \n",
       "164                 hampden              hampden   \n",
       "51680               hampden              hampden   \n",
       "51681          central-park         central-park   \n",
       "...                     ...                  ...   \n",
       "374256              marston              marston   \n",
       "376629                speer                speer   \n",
       "376646                 hale                 hale   \n",
       "376647              marston              marston   \n",
       "376648              marston              marston   \n",
       "\n",
       "                                        offense_type_name  \\\n",
       "93                                   Fondling of an adult   \n",
       "163                                                  Rape   \n",
       "164                              Unlawful sexual contact    \n",
       "51680                                Fondling of an adult   \n",
       "51681                                Fondling of an adult   \n",
       "...                                                   ...   \n",
       "374256  Sexual assault w/object by a person in a posit...   \n",
       "376629                               Fondling of an adult   \n",
       "376646                                               Rape   \n",
       "376647                                               Rape   \n",
       "376648                                               Rape   \n",
       "\n",
       "       offense_category_name  \n",
       "93            Sexual Assault  \n",
       "163           Sexual Assault  \n",
       "164           Sexual Assault  \n",
       "51680         Sexual Assault  \n",
       "51681         Sexual Assault  \n",
       "...                      ...  \n",
       "374256        Sexual Assault  \n",
       "376629        Sexual Assault  \n",
       "376646        Sexual Assault  \n",
       "376647        Sexual Assault  \n",
       "376648        Sexual Assault  \n",
       "\n",
       "[5849 rows x 17 columns]"
      ]
     },
     "execution_count": 43,
     "metadata": {},
     "output_type": "execute_result"
    }
   ],
   "source": [
    "# check for columns with na \n",
    "rows_w_na = dv_crime_data[dv_crime_data.isna().any(axis=1)]\n",
    "rows_w_na"
   ]
  },
  {
   "cell_type": "code",
   "execution_count": 44,
   "id": "a34080d5",
   "metadata": {},
   "outputs": [
    {
     "data": {
      "text/plain": [
       "1.5522329437491373"
      ]
     },
     "execution_count": 44,
     "metadata": {},
     "output_type": "execute_result"
    }
   ],
   "source": [
    "# check the percentage of na\n",
    "(len(rows_w_na) / len(dv_crime_data)) * 100"
   ]
  },
  {
   "cell_type": "code",
   "execution_count": 45,
   "id": "6b637b91",
   "metadata": {},
   "outputs": [],
   "source": [
    "SA = rows_w_na[\"offense_category_name\"] == \"Sexual Assault\""
   ]
  },
  {
   "cell_type": "code",
   "execution_count": 46,
   "id": "efa6d916",
   "metadata": {},
   "outputs": [
    {
     "data": {
      "text/plain": [
       "5849"
      ]
     },
     "execution_count": 46,
     "metadata": {},
     "output_type": "execute_result"
    }
   ],
   "source": [
    "len(SA)"
   ]
  },
  {
   "cell_type": "code",
   "execution_count": 47,
   "id": "00539a4a",
   "metadata": {},
   "outputs": [
    {
     "data": {
      "text/plain": [
       "5849"
      ]
     },
     "execution_count": 47,
     "metadata": {},
     "output_type": "execute_result"
    }
   ],
   "source": [
    "len(rows_w_na)"
   ]
  },
  {
   "cell_type": "markdown",
   "id": "7e227f12",
   "metadata": {},
   "source": [
    "&nbsp;&nbsp;&nbsp;&nbsp;&nbsp;&nbsp; Referring to the code above we see that around 1.5% of the data has NA values. Looking at the table these NA values are on the columns geo_lon, geo_lat, and incident_street. This makes sense as geo_lon, geo_lat are dependent on incident_street. As the amount of NA is so low and all of the crimes are sexula assualt these we have decided to keep this data. Sexual assault is historically under reported therefore we think it important to leave this data in so we can represent the crime as well as we can. Moreover it is likely because of the nature of the crime and protection of the victim that the street address may not be reported for these crimes."
   ]
  },
  {
   "cell_type": "markdown",
   "id": "cb0ff41e",
   "metadata": {},
   "source": [
    "## Step 8 \n",
    "&nbsp;&nbsp;&nbsp;&nbsp;&nbsp;&nbsp; Next the clean data is saved to a csv. With the clean data the next steps includes filtering and plotting the data for analysis. "
   ]
  },
  {
   "cell_type": "code",
   "execution_count": 48,
   "id": "b589d836",
   "metadata": {},
   "outputs": [],
   "source": [
    "# save clean data to csv\n",
    "dv_crime_data.to_csv('dv_crime_data.csv', index=False)"
   ]
  },
  {
   "cell_type": "markdown",
   "id": "bafbd13c",
   "metadata": {},
   "source": [
    "# Analysis  \n",
    "&nbsp;&nbsp;&nbsp;&nbsp;&nbsp;&nbsp; Now using the clean data we filter graph our data for analysis. To filter by year the date is converted to a datetime object from ISO, however we decided to stick to ISO format as it is more standard and is easily converted to other types if needed as seen below.  For the first group of tables we split the large table by year based on the first_occurrence_date."
   ]
  },
  {
   "cell_type": "code",
   "execution_count": 49,
   "id": "831aaf32",
   "metadata": {},
   "outputs": [],
   "source": [
    "dv_crime_data_2017 = dv_crime_data[pd.to_datetime(dv_crime_data['first_occurrence_date']).dt.year == 2017]"
   ]
  },
  {
   "cell_type": "code",
   "execution_count": 50,
   "id": "58e5914c",
   "metadata": {},
   "outputs": [],
   "source": [
    "dv_crime_data_2018 = dv_crime_data[pd.to_datetime(dv_crime_data['first_occurrence_date']).dt.year == 2018]"
   ]
  },
  {
   "cell_type": "code",
   "execution_count": 51,
   "id": "eca893ef",
   "metadata": {},
   "outputs": [],
   "source": [
    "dv_crime_data_2019 = dv_crime_data[pd.to_datetime(dv_crime_data['first_occurrence_date']).dt.year == 2019]"
   ]
  },
  {
   "cell_type": "code",
   "execution_count": 52,
   "id": "5ab83eeb",
   "metadata": {},
   "outputs": [],
   "source": [
    "dv_crime_data_2020 = dv_crime_data[pd.to_datetime(dv_crime_data['first_occurrence_date']).dt.year == 2020]"
   ]
  },
  {
   "cell_type": "code",
   "execution_count": 53,
   "id": "78636d55",
   "metadata": {},
   "outputs": [],
   "source": [
    "dv_crime_data_2021 = dv_crime_data[pd.to_datetime(dv_crime_data['first_occurrence_date']).dt.year == 2021]"
   ]
  },
  {
   "cell_type": "code",
   "execution_count": 54,
   "id": "abfc7829",
   "metadata": {},
   "outputs": [],
   "source": [
    "dv_crime_data_2022 = dv_crime_data[pd.to_datetime(dv_crime_data['first_occurrence_date']).dt.year == 2022]"
   ]
  },
  {
   "cell_type": "markdown",
   "id": "3999f200",
   "metadata": {},
   "source": [
    "## Geolocation plots by year \n",
    "&nbsp;&nbsp;&nbsp;&nbsp;&nbsp;&nbsp; With these tables we create the first group of plots using kepler gl. Using the long and lat columns we plot the geo location for the crimes split by year. \n",
    "\n",
    "kepler docs: https://docs.kepler.gl/docs/keplergl-jupyter#keplergl"
   ]
  },
  {
   "cell_type": "code",
   "execution_count": 57,
   "id": "cc8d2518",
   "metadata": {},
   "outputs": [],
   "source": [
    "# imports for graphs \n",
    "# !pip install keplergl\n",
    "# !jupyter labextension install @jupyter-widgets/jupyterlab-manager keplergl-jupyter\n",
    "# !jupyter nbextension enable --py widgetsnbextension\n",
    "from keplergl import KeplerGl"
   ]
  },
  {
   "cell_type": "code",
   "execution_count": 58,
   "id": "9539c2e9",
   "metadata": {},
   "outputs": [
    {
     "name": "stdout",
     "output_type": "stream",
     "text": [
      "User Guide: https://docs.kepler.gl/docs/keplergl-jupyter\n"
     ]
    },
    {
     "data": {
      "application/vnd.jupyter.widget-view+json": {
       "model_id": "0eda9c734be84a0b80b6e251db113b79",
       "version_major": 2,
       "version_minor": 0
      },
      "text/plain": [
       "KeplerGl(data={'DV CRIME 2017': {'index': [690, 698, 700, 702, 710, 711, 712, 716, 724, 729, 731, 753, 759, 76…"
      ]
     },
     "metadata": {},
     "output_type": "display_data"
    }
   ],
   "source": [
    "dv_crime_data_2017_map = KeplerGl()\n",
    "dv_crime_data_2017_map.add_data(data=dv_crime_data_2017, name='DV CRIME 2017')\n",
    "dv_crime_data_2017_map"
   ]
  },
  {
   "cell_type": "code",
   "execution_count": 59,
   "id": "2d5c29b2",
   "metadata": {},
   "outputs": [
    {
     "name": "stdout",
     "output_type": "stream",
     "text": [
      "User Guide: https://docs.kepler.gl/docs/keplergl-jupyter\n"
     ]
    },
    {
     "data": {
      "application/vnd.jupyter.widget-view+json": {
       "model_id": "a8e5dea9ab64419b8939be86be06c587",
       "version_major": 2,
       "version_minor": 0
      },
      "text/plain": [
       "KeplerGl(data={'DV CRIME 2018': {'index': [670, 671, 674, 686, 689, 691, 692, 693, 695, 708, 720, 727, 728, 73…"
      ]
     },
     "metadata": {},
     "output_type": "display_data"
    }
   ],
   "source": [
    "dv_crime_data_2018_map = KeplerGl()\n",
    "dv_crime_data_2018_map.add_data(data=dv_crime_data_2018, name='DV CRIME 2018')\n",
    "dv_crime_data_2018_map"
   ]
  },
  {
   "cell_type": "code",
   "execution_count": 60,
   "id": "3a928942",
   "metadata": {},
   "outputs": [
    {
     "name": "stdout",
     "output_type": "stream",
     "text": [
      "User Guide: https://docs.kepler.gl/docs/keplergl-jupyter\n"
     ]
    },
    {
     "data": {
      "application/vnd.jupyter.widget-view+json": {
       "model_id": "91a0a67f59d04ff693526eb66a83b589",
       "version_major": 2,
       "version_minor": 0
      },
      "text/plain": [
       "KeplerGl(data={'DV CRIME 2019': {'index': [667, 669, 672, 677, 680, 683, 704, 707, 709, 713, 715, 718, 719, 72…"
      ]
     },
     "metadata": {},
     "output_type": "display_data"
    }
   ],
   "source": [
    "dv_crime_data_2019_map = KeplerGl()\n",
    "dv_crime_data_2019_map.add_data(data=dv_crime_data_2019, name='DV CRIME 2019')\n",
    "dv_crime_data_2019_map"
   ]
  },
  {
   "cell_type": "code",
   "execution_count": 61,
   "id": "83c8dfdc",
   "metadata": {},
   "outputs": [
    {
     "name": "stdout",
     "output_type": "stream",
     "text": [
      "User Guide: https://docs.kepler.gl/docs/keplergl-jupyter\n"
     ]
    },
    {
     "data": {
      "application/vnd.jupyter.widget-view+json": {
       "model_id": "752ff3773d6b44c9b70d59149cbaff32",
       "version_major": 2,
       "version_minor": 0
      },
      "text/plain": [
       "KeplerGl(data={'DV CRIME 2020': {'index': [673, 676, 682, 685, 687, 688, 696, 697, 699, 701, 706, 714, 722, 72…"
      ]
     },
     "metadata": {},
     "output_type": "display_data"
    }
   ],
   "source": [
    "dv_crime_data_2020_map = KeplerGl()\n",
    "dv_crime_data_2020_map.add_data(data=dv_crime_data_2020, name='DV CRIME 2020')\n",
    "dv_crime_data_2020_map"
   ]
  },
  {
   "cell_type": "code",
   "execution_count": 62,
   "id": "c380bfa8",
   "metadata": {},
   "outputs": [
    {
     "name": "stdout",
     "output_type": "stream",
     "text": [
      "User Guide: https://docs.kepler.gl/docs/keplergl-jupyter\n"
     ]
    },
    {
     "data": {
      "application/vnd.jupyter.widget-view+json": {
       "model_id": "6adc83c512a14b1d8e9b3bccdc17b2cc",
       "version_major": 2,
       "version_minor": 0
      },
      "text/plain": [
       "KeplerGl(data={'DV CRIME 2021': {'index': [668, 675, 678, 679, 681, 684, 694, 703, 705, 717, 721, 730, 732, 73…"
      ]
     },
     "metadata": {},
     "output_type": "display_data"
    }
   ],
   "source": [
    "dv_crime_data_2021_map = KeplerGl()\n",
    "dv_crime_data_2021_map.add_data(data=dv_crime_data_2021, name='DV CRIME 2021')\n",
    "dv_crime_data_2021_map"
   ]
  },
  {
   "cell_type": "code",
   "execution_count": 70,
   "id": "33a430f0",
   "metadata": {},
   "outputs": [
    {
     "name": "stdout",
     "output_type": "stream",
     "text": [
      "User Guide: https://docs.kepler.gl/docs/keplergl-jupyter\n"
     ]
    },
    {
     "data": {
      "application/vnd.jupyter.widget-view+json": {
       "model_id": "ff0bc50d4bad4f5cab5788d8c52fa1a6",
       "version_major": 2,
       "version_minor": 0
      },
      "text/plain": [
       "KeplerGl(data={'DV CRIME 2022': {'index': [673, 676, 682, 685, 687, 688, 696, 697, 699, 701, 706, 714, 722, 72…"
      ]
     },
     "metadata": {},
     "output_type": "display_data"
    }
   ],
   "source": [
    "dv_crime_data_2022_map = KeplerGl()\n",
    "dv_crime_data_2022_map.add_data(data=dv_crime_data_2020, name='DV CRIME 2022')\n",
    "dv_crime_data_2022_map"
   ]
  },
  {
   "cell_type": "markdown",
   "id": "59cc9cc4",
   "metadata": {},
   "source": [
    "## Frequency graphs for crimes per year  "
   ]
  },
  {
   "cell_type": "code",
   "execution_count": 64,
   "id": "c792a33e",
   "metadata": {},
   "outputs": [],
   "source": [
    "import seaborn as sns\n",
    "import matplotlib.pyplot as plt\n",
    "sns.set_style(\"whitegrid\")"
   ]
  },
  {
   "cell_type": "code",
   "execution_count": 65,
   "id": "4e4b1336",
   "metadata": {},
   "outputs": [
    {
     "data": {
      "image/png": "[encoded data removed]",
      "text/plain": [
       "<Figure size 432x288 with 1 Axes>"
      ]
     },
     "metadata": {},
     "output_type": "display_data"
    }
   ],
   "source": [
    "dv_crime_data['year'] = pd.to_datetime(dv_crime_data['first_occurrence_date']).dt.year\n",
    "\n",
    "g = sns.countplot(x='year',\n",
    "                      data=dv_crime_data, palette = sns.color_palette(\"mako\"))\n",
    "g.set_xticklabels(g.get_xticklabels(), rotation=45)\n",
    "plt.show()"
   ]
  },
  {
   "cell_type": "markdown",
   "id": "70975460",
   "metadata": {},
   "source": [
    "## Frequency graphs for crimes per month"
   ]
  },
  {
   "cell_type": "code",
   "execution_count": 66,
   "id": "fddf6273",
   "metadata": {},
   "outputs": [
    {
     "data": {
      "image/png": "[encoded data removed]",
      "text/plain": [
       "<Figure size 432x288 with 1 Axes>"
      ]
     },
     "metadata": {},
     "output_type": "display_data"
    }
   ],
   "source": [
    "dv_crime_data['month'] = pd.to_datetime(dv_crime_data['first_occurrence_date']).dt.month_name()\n",
    "months = ['January','February','March','April','May','June','July','August','September','October','November','December']\n",
    "\n",
    "g = sns.countplot(x='month',\n",
    "                      data=dv_crime_data, order=months, palette = sns.color_palette(\"mako\"))\n",
    "g.set_xticklabels(g.get_xticklabels(), rotation=45)\n",
    "plt.show()"
   ]
  },
  {
   "cell_type": "code",
   "execution_count": 67,
   "id": "4a34614d",
   "metadata": {
    "scrolled": false
   },
   "outputs": [
    {
     "data": {
      "image/png": "[encoded data removed]",
      "text/plain": [
       "<Figure size 1080x720 with 6 Axes>"
      ]
     },
     "metadata": {},
     "output_type": "display_data"
    }
   ],
   "source": [
    "\n",
    "g = sns.catplot(x='month', col=\"year\",\n",
    "                col_wrap=3,\n",
    "                data=dv_crime_data, kind=\"count\",\n",
    "                palette = sns.color_palette(\"mako\")\n",
    "                )\n",
    "\n",
    "g.set_xticklabels(rotation=30)\n",
    "plt.show()"
   ]
  },
  {
   "cell_type": "code",
   "execution_count": 68,
   "id": "9cb414bb",
   "metadata": {},
   "outputs": [
    {
     "data": {
      "text/plain": [
       "Timestamp('2020-03-01 00:00:00')"
      ]
     },
     "execution_count": 68,
     "metadata": {},
     "output_type": "execute_result"
    }
   ],
   "source": [
    "pd.to_datetime('2020-03-01')"
   ]
  },
  {
   "cell_type": "markdown",
   "id": "00d14d62",
   "metadata": {},
   "source": [
    "## Frequency graphs for crimes before and after covid"
   ]
  },
  {
   "cell_type": "code",
   "execution_count": 69,
   "id": "8508f47a",
   "metadata": {
    "scrolled": false
   },
   "outputs": [
    {
     "data": {
      "image/png": "[encoded data removed]",
      "text/plain": [
       "<Figure size 1080x1512 with 14 Axes>"
      ]
     },
     "metadata": {},
     "output_type": "display_data"
    }
   ],
   "source": [
    "dv_crime_data['month_year'] = pd.to_datetime(dv_crime_data['first_occurrence_date']).dt.to_period('M').dt.to_timestamp()\n",
    "dv_crime_data_group = dv_crime_data.groupby(['month_year','offense_category_name'],as_index=False)[['incident_id']].count()\n",
    "\n",
    "g = sns.relplot(\n",
    "    data=dv_crime_data_group,\n",
    "    x=\"month_year\", y=\"incident_id\",\n",
    "    col_wrap=2, col=\"offense_category_name\",\n",
    "    kind=\"line\",\n",
    "    height=3,\n",
    "    aspect=2.5,\n",
    "    facet_kws={'sharey': False, 'sharex': True}\n",
    "\n",
    ")\n",
    "\n",
    "(g.map(plt.axvline, x=pd.to_datetime('2020-03-01'), color=\"0.25\", dashes=(4, 1), zorder=0)\n",
    "  .set_axis_labels(\"Month\", \"Number of incidents\")\n",
    "  .set_titles(\"Crime: {col_name}\")\n",
    "  .tight_layout(w_pad=0))\n",
    "\n",
    "#sns.lineplot(data = dv_crime_data_group, x=\"month_year\", y=\"incident_id\", hue = 'offense_category_name')\n",
    "plt.show()"
   ]
  },
  {
   "cell_type": "code",
   "execution_count": null,
   "id": "0a3760b1",
   "metadata": {},
   "outputs": [],
   "source": []
  }
 ],
 "metadata": {
  "kernelspec": {
   "display_name": "Python 3",
   "language": "python",
   "name": "python3"
  },
  "language_info": {
   "codemirror_mode": {
    "name": "ipython",
    "version": 3
   },
   "file_extension": ".py",
   "mimetype": "text/x-python",
   "name": "python",
   "nbconvert_exporter": "python",
   "pygments_lexer": "ipython3",
   "version": "3.7.6"
  }
 },
 "nbformat": 4,
 "nbformat_minor": 5
}
