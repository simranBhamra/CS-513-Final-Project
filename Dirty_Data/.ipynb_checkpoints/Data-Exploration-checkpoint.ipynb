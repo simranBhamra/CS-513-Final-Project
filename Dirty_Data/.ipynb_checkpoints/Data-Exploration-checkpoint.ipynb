{
 "cells": [
  {
   "cell_type": "code",
   "execution_count": 1,
   "id": "4ebfb853",
   "metadata": {},
   "outputs": [],
   "source": [
    "import numpy as np\n",
    "import pandas as pd"
   ]
  },
  {
   "cell_type": "code",
   "execution_count": 5,
   "id": "e1492b58",
   "metadata": {},
   "outputs": [],
   "source": [
    "#import datasets\n",
    "crimes = pd.read_csv(\"crime.csv\", encoding='latin-1', engine='python')\n",
    "offense_codes = pd.read_csv(\"offense_codes.csv\", encoding='latin-1', engine='python')\n",
    "\n",
    "\n"
   ]
  },
  {
   "cell_type": "code",
   "execution_count": 9,
   "id": "b785820d",
   "metadata": {},
   "outputs": [
    {
     "data": {
      "text/html": [
       "<div>\n",
       "<style scoped>\n",
       "    .dataframe tbody tr th:only-of-type {\n",
       "        vertical-align: middle;\n",
       "    }\n",
       "\n",
       "    .dataframe tbody tr th {\n",
       "        vertical-align: top;\n",
       "    }\n",
       "\n",
       "    .dataframe thead th {\n",
       "        text-align: right;\n",
       "    }\n",
       "</style>\n",
       "<table border=\"1\" class=\"dataframe\">\n",
       "  <thead>\n",
       "    <tr style=\"text-align: right;\">\n",
       "      <th></th>\n",
       "      <th>incident_id</th>\n",
       "      <th>offense_id</th>\n",
       "      <th>OFFENSE_CODE</th>\n",
       "      <th>OFFENSE_CODE_EXTENSION</th>\n",
       "      <th>OFFENSE_TYPE_ID</th>\n",
       "      <th>OFFENSE_CATEGORY_ID</th>\n",
       "      <th>FIRST_OCCURRENCE_DATE</th>\n",
       "      <th>LAST_OCCURRENCE_DATE</th>\n",
       "      <th>REPORTED_DATE</th>\n",
       "      <th>INCIDENT_ADDRESS</th>\n",
       "      <th>GEO_X</th>\n",
       "      <th>GEO_Y</th>\n",
       "      <th>GEO_LON</th>\n",
       "      <th>GEO_LAT</th>\n",
       "      <th>DISTRICT_ID</th>\n",
       "      <th>PRECINCT_ID</th>\n",
       "      <th>NEIGHBORHOOD_ID</th>\n",
       "      <th>IS_CRIME</th>\n",
       "      <th>IS_TRAFFIC</th>\n",
       "      <th>VICTIM_COUNT</th>\n",
       "    </tr>\n",
       "  </thead>\n",
       "  <tbody>\n",
       "    <tr>\n",
       "      <th>0</th>\n",
       "      <td>20226000193</td>\n",
       "      <td>20226000193299900</td>\n",
       "      <td>2999</td>\n",
       "      <td>0</td>\n",
       "      <td>criminal-mischief-other</td>\n",
       "      <td>public-disorder</td>\n",
       "      <td>1/4/2022 11:30:00 AM</td>\n",
       "      <td>1/4/2022 12:00:00 PM</td>\n",
       "      <td>1/4/2022 8:36:00 PM</td>\n",
       "      <td>128 S CANOSA CT</td>\n",
       "      <td>3135366.0</td>\n",
       "      <td>1685410.0</td>\n",
       "      <td>-105.018825</td>\n",
       "      <td>39.714268</td>\n",
       "      <td>4.0</td>\n",
       "      <td>411.0</td>\n",
       "      <td>valverde</td>\n",
       "      <td>1</td>\n",
       "      <td>0</td>\n",
       "      <td>1</td>\n",
       "    </tr>\n",
       "    <tr>\n",
       "      <th>1</th>\n",
       "      <td>20223319</td>\n",
       "      <td>20223319299900</td>\n",
       "      <td>2999</td>\n",
       "      <td>0</td>\n",
       "      <td>criminal-mischief-other</td>\n",
       "      <td>public-disorder</td>\n",
       "      <td>1/3/2022 6:45:00 AM</td>\n",
       "      <td>NaN</td>\n",
       "      <td>1/3/2022 11:01:00 AM</td>\n",
       "      <td>650 15TH ST</td>\n",
       "      <td>3142454.0</td>\n",
       "      <td>1696151.0</td>\n",
       "      <td>-104.993418</td>\n",
       "      <td>39.743649</td>\n",
       "      <td>6.0</td>\n",
       "      <td>611.0</td>\n",
       "      <td>cbd</td>\n",
       "      <td>1</td>\n",
       "      <td>0</td>\n",
       "      <td>1</td>\n",
       "    </tr>\n",
       "    <tr>\n",
       "      <th>2</th>\n",
       "      <td>20223093</td>\n",
       "      <td>20223093299900</td>\n",
       "      <td>2999</td>\n",
       "      <td>0</td>\n",
       "      <td>criminal-mischief-other</td>\n",
       "      <td>public-disorder</td>\n",
       "      <td>1/3/2022 1:00:00 AM</td>\n",
       "      <td>NaN</td>\n",
       "      <td>1/3/2022 6:11:00 AM</td>\n",
       "      <td>919 E COLFAX AVE</td>\n",
       "      <td>3147484.0</td>\n",
       "      <td>1694898.0</td>\n",
       "      <td>-104.975557</td>\n",
       "      <td>39.740130</td>\n",
       "      <td>6.0</td>\n",
       "      <td>621.0</td>\n",
       "      <td>north-capitol-hill</td>\n",
       "      <td>1</td>\n",
       "      <td>0</td>\n",
       "      <td>1</td>\n",
       "    </tr>\n",
       "    <tr>\n",
       "      <th>3</th>\n",
       "      <td>20224000</td>\n",
       "      <td>20224000299900</td>\n",
       "      <td>2999</td>\n",
       "      <td>0</td>\n",
       "      <td>criminal-mischief-other</td>\n",
       "      <td>public-disorder</td>\n",
       "      <td>1/3/2022 7:47:00 PM</td>\n",
       "      <td>NaN</td>\n",
       "      <td>1/3/2022 9:12:00 PM</td>\n",
       "      <td>2345 W ALAMEDA AVE</td>\n",
       "      <td>3136478.0</td>\n",
       "      <td>1684414.0</td>\n",
       "      <td>-105.014892</td>\n",
       "      <td>39.711518</td>\n",
       "      <td>4.0</td>\n",
       "      <td>411.0</td>\n",
       "      <td>valverde</td>\n",
       "      <td>1</td>\n",
       "      <td>0</td>\n",
       "      <td>1</td>\n",
       "    </tr>\n",
       "    <tr>\n",
       "      <th>4</th>\n",
       "      <td>20223956</td>\n",
       "      <td>20223956299900</td>\n",
       "      <td>2999</td>\n",
       "      <td>0</td>\n",
       "      <td>criminal-mischief-other</td>\n",
       "      <td>public-disorder</td>\n",
       "      <td>1/3/2022 5:06:00 PM</td>\n",
       "      <td>NaN</td>\n",
       "      <td>1/3/2022 8:31:00 PM</td>\n",
       "      <td>7800 E SMITH RD</td>\n",
       "      <td>3169237.0</td>\n",
       "      <td>1705800.0</td>\n",
       "      <td>-104.897950</td>\n",
       "      <td>39.769688</td>\n",
       "      <td>5.0</td>\n",
       "      <td>512.0</td>\n",
       "      <td>central-park</td>\n",
       "      <td>1</td>\n",
       "      <td>0</td>\n",
       "      <td>1</td>\n",
       "    </tr>\n",
       "  </tbody>\n",
       "</table>\n",
       "</div>"
      ],
      "text/plain": [
       "   incident_id         offense_id  OFFENSE_CODE  OFFENSE_CODE_EXTENSION  \\\n",
       "0  20226000193  20226000193299900          2999                       0   \n",
       "1     20223319     20223319299900          2999                       0   \n",
       "2     20223093     20223093299900          2999                       0   \n",
       "3     20224000     20224000299900          2999                       0   \n",
       "4     20223956     20223956299900          2999                       0   \n",
       "\n",
       "           OFFENSE_TYPE_ID OFFENSE_CATEGORY_ID FIRST_OCCURRENCE_DATE  \\\n",
       "0  criminal-mischief-other     public-disorder  1/4/2022 11:30:00 AM   \n",
       "1  criminal-mischief-other     public-disorder   1/3/2022 6:45:00 AM   \n",
       "2  criminal-mischief-other     public-disorder   1/3/2022 1:00:00 AM   \n",
       "3  criminal-mischief-other     public-disorder   1/3/2022 7:47:00 PM   \n",
       "4  criminal-mischief-other     public-disorder   1/3/2022 5:06:00 PM   \n",
       "\n",
       "   LAST_OCCURRENCE_DATE         REPORTED_DATE    INCIDENT_ADDRESS      GEO_X  \\\n",
       "0  1/4/2022 12:00:00 PM   1/4/2022 8:36:00 PM     128 S CANOSA CT  3135366.0   \n",
       "1                   NaN  1/3/2022 11:01:00 AM         650 15TH ST  3142454.0   \n",
       "2                   NaN   1/3/2022 6:11:00 AM    919 E COLFAX AVE  3147484.0   \n",
       "3                   NaN   1/3/2022 9:12:00 PM  2345 W ALAMEDA AVE  3136478.0   \n",
       "4                   NaN   1/3/2022 8:31:00 PM     7800 E SMITH RD  3169237.0   \n",
       "\n",
       "       GEO_Y     GEO_LON    GEO_LAT  DISTRICT_ID  PRECINCT_ID  \\\n",
       "0  1685410.0 -105.018825  39.714268          4.0        411.0   \n",
       "1  1696151.0 -104.993418  39.743649          6.0        611.0   \n",
       "2  1694898.0 -104.975557  39.740130          6.0        621.0   \n",
       "3  1684414.0 -105.014892  39.711518          4.0        411.0   \n",
       "4  1705800.0 -104.897950  39.769688          5.0        512.0   \n",
       "\n",
       "      NEIGHBORHOOD_ID  IS_CRIME  IS_TRAFFIC  VICTIM_COUNT  \n",
       "0            valverde         1           0             1  \n",
       "1                 cbd         1           0             1  \n",
       "2  north-capitol-hill         1           0             1  \n",
       "3            valverde         1           0             1  \n",
       "4        central-park         1           0             1  "
      ]
     },
     "execution_count": 9,
     "metadata": {},
     "output_type": "execute_result"
    }
   ],
   "source": [
    "crimes.head()"
   ]
  },
  {
   "cell_type": "code",
   "execution_count": 10,
   "id": "a2fbc203",
   "metadata": {},
   "outputs": [
    {
     "data": {
      "text/html": [
       "<div>\n",
       "<style scoped>\n",
       "    .dataframe tbody tr th:only-of-type {\n",
       "        vertical-align: middle;\n",
       "    }\n",
       "\n",
       "    .dataframe tbody tr th {\n",
       "        vertical-align: top;\n",
       "    }\n",
       "\n",
       "    .dataframe thead th {\n",
       "        text-align: right;\n",
       "    }\n",
       "</style>\n",
       "<table border=\"1\" class=\"dataframe\">\n",
       "  <thead>\n",
       "    <tr style=\"text-align: right;\">\n",
       "      <th></th>\n",
       "      <th>OBJECTID</th>\n",
       "      <th>OFFENSE_CODE</th>\n",
       "      <th>OFFENSE_CODE_EXTENSION</th>\n",
       "      <th>OFFENSE_TYPE_ID</th>\n",
       "      <th>OFFENSE_TYPE_NAME</th>\n",
       "      <th>OFFENSE_CATEGORY_ID</th>\n",
       "      <th>OFFENSE_CATEGORY_NAME</th>\n",
       "      <th>IS_CRIME</th>\n",
       "      <th>IS_TRAFFIC</th>\n",
       "    </tr>\n",
       "  </thead>\n",
       "  <tbody>\n",
       "    <tr>\n",
       "      <th>0</th>\n",
       "      <td>1</td>\n",
       "      <td>2804</td>\n",
       "      <td>1</td>\n",
       "      <td>stolen-property-possession</td>\n",
       "      <td>Possession of stolen property</td>\n",
       "      <td>all-other-crimes</td>\n",
       "      <td>All Other Crimes</td>\n",
       "      <td>1</td>\n",
       "      <td>0</td>\n",
       "    </tr>\n",
       "    <tr>\n",
       "      <th>1</th>\n",
       "      <td>2</td>\n",
       "      <td>2804</td>\n",
       "      <td>2</td>\n",
       "      <td>fraud-possess-financial-device</td>\n",
       "      <td>Possession of a financial device</td>\n",
       "      <td>all-other-crimes</td>\n",
       "      <td>All Other Crimes</td>\n",
       "      <td>1</td>\n",
       "      <td>0</td>\n",
       "    </tr>\n",
       "    <tr>\n",
       "      <th>2</th>\n",
       "      <td>3</td>\n",
       "      <td>2901</td>\n",
       "      <td>0</td>\n",
       "      <td>damaged-prop-bus</td>\n",
       "      <td>Damaged business property</td>\n",
       "      <td>public-disorder</td>\n",
       "      <td>Public Disorder</td>\n",
       "      <td>1</td>\n",
       "      <td>0</td>\n",
       "    </tr>\n",
       "    <tr>\n",
       "      <th>3</th>\n",
       "      <td>4</td>\n",
       "      <td>2902</td>\n",
       "      <td>0</td>\n",
       "      <td>criminal-mischief-private</td>\n",
       "      <td>Criminal mischief to private property</td>\n",
       "      <td>public-disorder</td>\n",
       "      <td>Public Disorder</td>\n",
       "      <td>1</td>\n",
       "      <td>0</td>\n",
       "    </tr>\n",
       "    <tr>\n",
       "      <th>4</th>\n",
       "      <td>5</td>\n",
       "      <td>2903</td>\n",
       "      <td>0</td>\n",
       "      <td>criminal-mischief-public</td>\n",
       "      <td>Criminal mischief to public property</td>\n",
       "      <td>public-disorder</td>\n",
       "      <td>Public Disorder</td>\n",
       "      <td>1</td>\n",
       "      <td>0</td>\n",
       "    </tr>\n",
       "  </tbody>\n",
       "</table>\n",
       "</div>"
      ],
      "text/plain": [
       "   OBJECTID  OFFENSE_CODE  OFFENSE_CODE_EXTENSION  \\\n",
       "0         1          2804                       1   \n",
       "1         2          2804                       2   \n",
       "2         3          2901                       0   \n",
       "3         4          2902                       0   \n",
       "4         5          2903                       0   \n",
       "\n",
       "                  OFFENSE_TYPE_ID                      OFFENSE_TYPE_NAME  \\\n",
       "0      stolen-property-possession          Possession of stolen property   \n",
       "1  fraud-possess-financial-device       Possession of a financial device   \n",
       "2                damaged-prop-bus              Damaged business property   \n",
       "3       criminal-mischief-private  Criminal mischief to private property   \n",
       "4        criminal-mischief-public   Criminal mischief to public property   \n",
       "\n",
       "  OFFENSE_CATEGORY_ID OFFENSE_CATEGORY_NAME  IS_CRIME  IS_TRAFFIC  \n",
       "0    all-other-crimes      All Other Crimes         1           0  \n",
       "1    all-other-crimes      All Other Crimes         1           0  \n",
       "2     public-disorder       Public Disorder         1           0  \n",
       "3     public-disorder       Public Disorder         1           0  \n",
       "4     public-disorder       Public Disorder         1           0  "
      ]
     },
     "execution_count": 10,
     "metadata": {},
     "output_type": "execute_result"
    }
   ],
   "source": [
    "offense_codes.head()"
   ]
  },
  {
   "cell_type": "code",
   "execution_count": 16,
   "id": "e7f97c46",
   "metadata": {},
   "outputs": [
    {
     "name": "stdout",
     "output_type": "stream",
     "text": [
      "incident_id\n",
      "offense_id\n",
      "OFFENSE_CODE\n",
      "OFFENSE_CODE_EXTENSION\n",
      "OFFENSE_TYPE_ID\n",
      "OFFENSE_CATEGORY_ID\n",
      "FIRST_OCCURRENCE_DATE\n",
      "LAST_OCCURRENCE_DATE\n",
      "REPORTED_DATE\n",
      "INCIDENT_ADDRESS\n",
      "GEO_X\n",
      "GEO_Y\n",
      "GEO_LON\n",
      "GEO_LAT\n",
      "DISTRICT_ID\n",
      "PRECINCT_ID\n",
      "NEIGHBORHOOD_ID\n",
      "IS_CRIME\n",
      "IS_TRAFFIC\n",
      "VICTIM_COUNT\n"
     ]
    },
    {
     "data": {
      "text/plain": [
       "376812"
      ]
     },
     "execution_count": 16,
     "metadata": {},
     "output_type": "execute_result"
    }
   ],
   "source": [
    "for col in crimes.columns:\n",
    "    print(col)\n",
    "\n",
    "len(crimes)"
   ]
  },
  {
   "cell_type": "code",
   "execution_count": 17,
   "id": "63e0d8d7",
   "metadata": {},
   "outputs": [
    {
     "name": "stdout",
     "output_type": "stream",
     "text": [
      "OBJECTID\n",
      "OFFENSE_CODE\n",
      "OFFENSE_CODE_EXTENSION\n",
      "OFFENSE_TYPE_ID\n",
      "OFFENSE_TYPE_NAME\n",
      "OFFENSE_CATEGORY_ID\n",
      "OFFENSE_CATEGORY_NAME\n",
      "IS_CRIME\n",
      "IS_TRAFFIC\n"
     ]
    },
    {
     "data": {
      "text/plain": [
       "300"
      ]
     },
     "execution_count": 17,
     "metadata": {},
     "output_type": "execute_result"
    }
   ],
   "source": [
    "for col in offense_codes.columns:\n",
    "    print(col)\n",
    "len(offense_codes)"
   ]
  },
  {
   "cell_type": "code",
   "execution_count": 15,
   "id": "71c3d988",
   "metadata": {},
   "outputs": [
    {
     "data": {
      "text/plain": [
       "{int64: ['incident_id', 'offense_id', 'OFFENSE_CODE', 'OFFENSE_CODE_EXTENSION', 'IS_CRIME', 'IS_TRAFFIC', 'VICTIM_COUNT'], float64: ['GEO_X', 'GEO_Y', 'GEO_LON', 'GEO_LAT', 'DISTRICT_ID', 'PRECINCT_ID'], object: ['OFFENSE_TYPE_ID', 'OFFENSE_CATEGORY_ID', 'FIRST_OCCURRENCE_DATE', 'LAST_OCCURRENCE_DATE', 'REPORTED_DATE', 'INCIDENT_ADDRESS', 'NEIGHBORHOOD_ID']}"
      ]
     },
     "execution_count": 15,
     "metadata": {},
     "output_type": "execute_result"
    }
   ],
   "source": [
    "crimes.columns.to_series().groupby(crimes.dtypes).groups"
   ]
  },
  {
   "cell_type": "code",
   "execution_count": 18,
   "id": "c7395049",
   "metadata": {},
   "outputs": [
    {
     "data": {
      "text/plain": [
       "{int64: ['OBJECTID', 'OFFENSE_CODE', 'OFFENSE_CODE_EXTENSION', 'IS_CRIME', 'IS_TRAFFIC'], object: ['OFFENSE_TYPE_ID', 'OFFENSE_TYPE_NAME', 'OFFENSE_CATEGORY_ID', 'OFFENSE_CATEGORY_NAME']}"
      ]
     },
     "execution_count": 18,
     "metadata": {},
     "output_type": "execute_result"
    }
   ],
   "source": [
    "offense_codes.columns.to_series().groupby(offense_codes.dtypes).groups"
   ]
  },
  {
   "cell_type": "code",
   "execution_count": 22,
   "id": "7f2b0265",
   "metadata": {},
   "outputs": [],
   "source": [
    "crimes_null = crimes.isnull().sum()\n",
    "crimes_all = len(crimes)"
   ]
  },
  {
   "cell_type": "code",
   "execution_count": 25,
   "id": "0073a7f7",
   "metadata": {},
   "outputs": [
    {
     "data": {
      "text/plain": [
       "incident_id                    0\n",
       "offense_id                     0\n",
       "OFFENSE_CODE                   0\n",
       "OFFENSE_CODE_EXTENSION         0\n",
       "OFFENSE_TYPE_ID                0\n",
       "OFFENSE_CATEGORY_ID            0\n",
       "FIRST_OCCURRENCE_DATE          0\n",
       "LAST_OCCURRENCE_DATE      183996\n",
       "REPORTED_DATE                  0\n",
       "INCIDENT_ADDRESS            5267\n",
       "GEO_X                       5267\n",
       "GEO_Y                       5267\n",
       "GEO_LON                     5849\n",
       "GEO_LAT                     5849\n",
       "DISTRICT_ID                  584\n",
       "PRECINCT_ID                  584\n",
       "NEIGHBORHOOD_ID              584\n",
       "IS_CRIME                       0\n",
       "IS_TRAFFIC                     0\n",
       "VICTIM_COUNT                   0\n",
       "dtype: int64"
      ]
     },
     "execution_count": 25,
     "metadata": {},
     "output_type": "execute_result"
    }
   ],
   "source": [
    "crimes_null"
   ]
  },
  {
   "cell_type": "code",
   "execution_count": 26,
   "id": "3f441cd8",
   "metadata": {},
   "outputs": [
    {
     "data": {
      "text/plain": [
       "incident_id                0.000000\n",
       "offense_id                 0.000000\n",
       "OFFENSE_CODE               0.000000\n",
       "OFFENSE_CODE_EXTENSION     0.000000\n",
       "OFFENSE_TYPE_ID            0.000000\n",
       "OFFENSE_CATEGORY_ID        0.000000\n",
       "FIRST_OCCURRENCE_DATE      0.000000\n",
       "LAST_OCCURRENCE_DATE      48.829655\n",
       "REPORTED_DATE              0.000000\n",
       "INCIDENT_ADDRESS           1.397779\n",
       "GEO_X                      1.397779\n",
       "GEO_Y                      1.397779\n",
       "GEO_LON                    1.552233\n",
       "GEO_LAT                    1.552233\n",
       "DISTRICT_ID                0.154984\n",
       "PRECINCT_ID                0.154984\n",
       "NEIGHBORHOOD_ID            0.154984\n",
       "IS_CRIME                   0.000000\n",
       "IS_TRAFFIC                 0.000000\n",
       "VICTIM_COUNT               0.000000\n",
       "dtype: float64"
      ]
     },
     "execution_count": 26,
     "metadata": {},
     "output_type": "execute_result"
    }
   ],
   "source": [
    "(crimes_null/crimes_all)*100"
   ]
  },
  {
   "cell_type": "code",
   "execution_count": 27,
   "id": "65cf24c4",
   "metadata": {},
   "outputs": [
    {
     "data": {
      "text/plain": [
       "OBJECTID                  0\n",
       "OFFENSE_CODE              0\n",
       "OFFENSE_CODE_EXTENSION    0\n",
       "OFFENSE_TYPE_ID           0\n",
       "OFFENSE_TYPE_NAME         0\n",
       "OFFENSE_CATEGORY_ID       0\n",
       "OFFENSE_CATEGORY_NAME     0\n",
       "IS_CRIME                  0\n",
       "IS_TRAFFIC                0\n",
       "dtype: int64"
      ]
     },
     "execution_count": 27,
     "metadata": {},
     "output_type": "execute_result"
    }
   ],
   "source": [
    "offense_codes.isnull().sum()"
   ]
  },
  {
   "cell_type": "code",
   "execution_count": null,
   "id": "da998a08",
   "metadata": {},
   "outputs": [],
   "source": []
  }
 ],
 "metadata": {
  "kernelspec": {
   "display_name": "Python 3",
   "language": "python",
   "name": "python3"
  },
  "language_info": {
   "codemirror_mode": {
    "name": "ipython",
    "version": 3
   },
   "file_extension": ".py",
   "mimetype": "text/x-python",
   "name": "python",
   "nbconvert_exporter": "python",
   "pygments_lexer": "ipython3",
   "version": "3.7.6"
  }
 },
 "nbformat": 4,
 "nbformat_minor": 5
}
